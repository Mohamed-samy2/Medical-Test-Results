{
  "nbformat": 4,
  "nbformat_minor": 0,
  "metadata": {
    "colab": {
      "provenance": [],
      "collapsed_sections": [
        "7vXICvla9-Lk"
      ]
    },
    "kernelspec": {
      "name": "python3",
      "display_name": "Python 3"
    },
    "language_info": {
      "name": "python"
    },
    "accelerator": "TPU"
  },
  "cells": [
    {
      "cell_type": "markdown",
      "source": [
        "## Modeling"
      ],
      "metadata": {
        "id": "eCB2JzQo9soI"
      }
    },
    {
      "cell_type": "markdown",
      "source": [
        "### 1.1) Importing modules and Reading data"
      ],
      "metadata": {
        "id": "7vXICvla9-Lk"
      }
    },
    {
      "cell_type": "code",
      "source": [
        "import numpy as np\n",
        "import pandas as pd\n",
        "import matplotlib.pyplot as plt\n",
        "import seaborn as sns\n",
        "import plotly.express as px\n",
        "import scipy.stats as stats\n",
        "from sklearn.metrics import accuracy_score, confusion_matrix, classification_report\n",
        "from sklearn.metrics import roc_curve, auc\n",
        "import warnings\n",
        "warnings.filterwarnings('ignore')\n",
        "%matplotlib inline\n",
        "pd.set_option('display.max_columns', None)"
      ],
      "metadata": {
        "id": "K-MGQiar-Avm"
      },
      "execution_count": null,
      "outputs": []
    },
    {
      "cell_type": "code",
      "source": [
        "x_train=pd.read_csv(\"x_train.csv\")\n",
        "y_train=pd.read_csv(\"y_train.csv\")\n",
        "x_test=pd.read_csv(\"x_test.csv\")\n",
        "y_test=pd.read_csv(\"y_test.csv\")"
      ],
      "metadata": {
        "id": "trd0Dp85B9CK"
      },
      "execution_count": null,
      "outputs": []
    },
    {
      "cell_type": "markdown",
      "source": [
        "Dropping unencessary columns."
      ],
      "metadata": {
        "id": "75ABJPriRleX"
      }
    },
    {
      "cell_type": "code",
      "source": [
        "x_train.drop([\"Unnamed: 0\"],inplace=True,axis=1)\n",
        "y_train.drop([\"Unnamed: 0\"],inplace=True,axis=1)\n",
        "x_test.drop([\"Unnamed: 0\"],inplace=True,axis=1)\n",
        "y_test.drop([\"Unnamed: 0\"],inplace=True,axis=1)"
      ],
      "metadata": {
        "id": "eJuO7WWECsjv"
      },
      "execution_count": null,
      "outputs": []
    },
    {
      "cell_type": "markdown",
      "source": [
        "View the initial rows of our training data features.\n",
        "\n",
        "\n",
        "\n",
        "\n",
        "\n"
      ],
      "metadata": {
        "id": "Fmv7uzA8SNi3"
      }
    },
    {
      "cell_type": "code",
      "source": [
        "x_train.head()"
      ],
      "metadata": {
        "colab": {
          "base_uri": "https://localhost:8080/"
        },
        "id": "OUBRGsLJDICN",
        "outputId": "3f1b8c30-2c45-406c-e462-8fe96a839ce7"
      },
      "execution_count": null,
      "outputs": [
        {
          "output_type": "execute_result",
          "data": {
            "text/plain": [
              "        Age  Blood Type  Hospital  Insurance Provider  \\\n",
              "0 -0.839634    1.090645 -1.336859            1.447532   \n",
              "1 -0.124035    0.655613 -0.731117            0.736904   \n",
              "2 -0.532949   -0.649482 -1.443343           -1.394980   \n",
              "3  1.562733   -0.649482  1.550938            0.026276   \n",
              "4  0.182650    1.525677 -1.394246           -0.684352   \n",
              "\n",
              "   Medical Condition_Arthritis  Medical Condition_Asthma  \\\n",
              "0                    -0.438330                  2.189399   \n",
              "1                    -0.438330                  2.189399   \n",
              "2                     2.281388                 -0.456746   \n",
              "3                    -0.438330                 -0.456746   \n",
              "4                     2.281388                 -0.456746   \n",
              "\n",
              "   Medical Condition_Cancer  Medical Condition_Diabetes  \\\n",
              "0                 -0.458336                   -0.438061   \n",
              "1                 -0.458336                   -0.438061   \n",
              "2                 -0.458336                   -0.438061   \n",
              "3                 -0.458336                   -0.438061   \n",
              "4                 -0.458336                   -0.438061   \n",
              "\n",
              "   Medical Condition_Hypertension  Medical Condition_Obesity  \\\n",
              "0                       -0.451434                   -0.44021   \n",
              "1                       -0.451434                   -0.44021   \n",
              "2                       -0.451434                   -0.44021   \n",
              "3                        2.215165                   -0.44021   \n",
              "4                       -0.451434                   -0.44021   \n",
              "\n",
              "   Medication_Aspirin  Medication_Ibuprofen  Medication_Lipitor  \\\n",
              "0           -0.496578             -0.500725            2.018001   \n",
              "1           -0.496578             -0.500725           -0.495540   \n",
              "2            2.013783             -0.500725           -0.495540   \n",
              "3           -0.496578             -0.500725            2.018001   \n",
              "4            2.013783             -0.500725           -0.495540   \n",
              "\n",
              "   Medication_Paracetamol  Medication_Penicillin  \n",
              "0               -0.494761              -0.512355  \n",
              "1               -0.494761               1.951771  \n",
              "2               -0.494761              -0.512355  \n",
              "3               -0.494761              -0.512355  \n",
              "4               -0.494761              -0.512355  "
            ],
            "text/html": [
              "\n",
              "  <div id=\"df-57674641-fe41-42e5-b653-8075b663febf\" class=\"colab-df-container\">\n",
              "    <div>\n",
              "<style scoped>\n",
              "    .dataframe tbody tr th:only-of-type {\n",
              "        vertical-align: middle;\n",
              "    }\n",
              "\n",
              "    .dataframe tbody tr th {\n",
              "        vertical-align: top;\n",
              "    }\n",
              "\n",
              "    .dataframe thead th {\n",
              "        text-align: right;\n",
              "    }\n",
              "</style>\n",
              "<table border=\"1\" class=\"dataframe\">\n",
              "  <thead>\n",
              "    <tr style=\"text-align: right;\">\n",
              "      <th></th>\n",
              "      <th>Age</th>\n",
              "      <th>Blood Type</th>\n",
              "      <th>Hospital</th>\n",
              "      <th>Insurance Provider</th>\n",
              "      <th>Medical Condition_Arthritis</th>\n",
              "      <th>Medical Condition_Asthma</th>\n",
              "      <th>Medical Condition_Cancer</th>\n",
              "      <th>Medical Condition_Diabetes</th>\n",
              "      <th>Medical Condition_Hypertension</th>\n",
              "      <th>Medical Condition_Obesity</th>\n",
              "      <th>Medication_Aspirin</th>\n",
              "      <th>Medication_Ibuprofen</th>\n",
              "      <th>Medication_Lipitor</th>\n",
              "      <th>Medication_Paracetamol</th>\n",
              "      <th>Medication_Penicillin</th>\n",
              "    </tr>\n",
              "  </thead>\n",
              "  <tbody>\n",
              "    <tr>\n",
              "      <th>0</th>\n",
              "      <td>-0.839634</td>\n",
              "      <td>1.090645</td>\n",
              "      <td>-1.336859</td>\n",
              "      <td>1.447532</td>\n",
              "      <td>-0.438330</td>\n",
              "      <td>2.189399</td>\n",
              "      <td>-0.458336</td>\n",
              "      <td>-0.438061</td>\n",
              "      <td>-0.451434</td>\n",
              "      <td>-0.44021</td>\n",
              "      <td>-0.496578</td>\n",
              "      <td>-0.500725</td>\n",
              "      <td>2.018001</td>\n",
              "      <td>-0.494761</td>\n",
              "      <td>-0.512355</td>\n",
              "    </tr>\n",
              "    <tr>\n",
              "      <th>1</th>\n",
              "      <td>-0.124035</td>\n",
              "      <td>0.655613</td>\n",
              "      <td>-0.731117</td>\n",
              "      <td>0.736904</td>\n",
              "      <td>-0.438330</td>\n",
              "      <td>2.189399</td>\n",
              "      <td>-0.458336</td>\n",
              "      <td>-0.438061</td>\n",
              "      <td>-0.451434</td>\n",
              "      <td>-0.44021</td>\n",
              "      <td>-0.496578</td>\n",
              "      <td>-0.500725</td>\n",
              "      <td>-0.495540</td>\n",
              "      <td>-0.494761</td>\n",
              "      <td>1.951771</td>\n",
              "    </tr>\n",
              "    <tr>\n",
              "      <th>2</th>\n",
              "      <td>-0.532949</td>\n",
              "      <td>-0.649482</td>\n",
              "      <td>-1.443343</td>\n",
              "      <td>-1.394980</td>\n",
              "      <td>2.281388</td>\n",
              "      <td>-0.456746</td>\n",
              "      <td>-0.458336</td>\n",
              "      <td>-0.438061</td>\n",
              "      <td>-0.451434</td>\n",
              "      <td>-0.44021</td>\n",
              "      <td>2.013783</td>\n",
              "      <td>-0.500725</td>\n",
              "      <td>-0.495540</td>\n",
              "      <td>-0.494761</td>\n",
              "      <td>-0.512355</td>\n",
              "    </tr>\n",
              "    <tr>\n",
              "      <th>3</th>\n",
              "      <td>1.562733</td>\n",
              "      <td>-0.649482</td>\n",
              "      <td>1.550938</td>\n",
              "      <td>0.026276</td>\n",
              "      <td>-0.438330</td>\n",
              "      <td>-0.456746</td>\n",
              "      <td>-0.458336</td>\n",
              "      <td>-0.438061</td>\n",
              "      <td>2.215165</td>\n",
              "      <td>-0.44021</td>\n",
              "      <td>-0.496578</td>\n",
              "      <td>-0.500725</td>\n",
              "      <td>2.018001</td>\n",
              "      <td>-0.494761</td>\n",
              "      <td>-0.512355</td>\n",
              "    </tr>\n",
              "    <tr>\n",
              "      <th>4</th>\n",
              "      <td>0.182650</td>\n",
              "      <td>1.525677</td>\n",
              "      <td>-1.394246</td>\n",
              "      <td>-0.684352</td>\n",
              "      <td>2.281388</td>\n",
              "      <td>-0.456746</td>\n",
              "      <td>-0.458336</td>\n",
              "      <td>-0.438061</td>\n",
              "      <td>-0.451434</td>\n",
              "      <td>-0.44021</td>\n",
              "      <td>2.013783</td>\n",
              "      <td>-0.500725</td>\n",
              "      <td>-0.495540</td>\n",
              "      <td>-0.494761</td>\n",
              "      <td>-0.512355</td>\n",
              "    </tr>\n",
              "  </tbody>\n",
              "</table>\n",
              "</div>\n",
              "    <div class=\"colab-df-buttons\">\n",
              "\n",
              "  <div class=\"colab-df-container\">\n",
              "    <button class=\"colab-df-convert\" onclick=\"convertToInteractive('df-57674641-fe41-42e5-b653-8075b663febf')\"\n",
              "            title=\"Convert this dataframe to an interactive table.\"\n",
              "            style=\"display:none;\">\n",
              "\n",
              "  <svg xmlns=\"http://www.w3.org/2000/svg\" height=\"24px\" viewBox=\"0 -960 960 960\">\n",
              "    <path d=\"M120-120v-720h720v720H120Zm60-500h600v-160H180v160Zm220 220h160v-160H400v160Zm0 220h160v-160H400v160ZM180-400h160v-160H180v160Zm440 0h160v-160H620v160ZM180-180h160v-160H180v160Zm440 0h160v-160H620v160Z\"/>\n",
              "  </svg>\n",
              "    </button>\n",
              "\n",
              "  <style>\n",
              "    .colab-df-container {\n",
              "      display:flex;\n",
              "      gap: 12px;\n",
              "    }\n",
              "\n",
              "    .colab-df-convert {\n",
              "      background-color: #E8F0FE;\n",
              "      border: none;\n",
              "      border-radius: 50%;\n",
              "      cursor: pointer;\n",
              "      display: none;\n",
              "      fill: #1967D2;\n",
              "      height: 32px;\n",
              "      padding: 0 0 0 0;\n",
              "      width: 32px;\n",
              "    }\n",
              "\n",
              "    .colab-df-convert:hover {\n",
              "      background-color: #E2EBFA;\n",
              "      box-shadow: 0px 1px 2px rgba(60, 64, 67, 0.3), 0px 1px 3px 1px rgba(60, 64, 67, 0.15);\n",
              "      fill: #174EA6;\n",
              "    }\n",
              "\n",
              "    .colab-df-buttons div {\n",
              "      margin-bottom: 4px;\n",
              "    }\n",
              "\n",
              "    [theme=dark] .colab-df-convert {\n",
              "      background-color: #3B4455;\n",
              "      fill: #D2E3FC;\n",
              "    }\n",
              "\n",
              "    [theme=dark] .colab-df-convert:hover {\n",
              "      background-color: #434B5C;\n",
              "      box-shadow: 0px 1px 3px 1px rgba(0, 0, 0, 0.15);\n",
              "      filter: drop-shadow(0px 1px 2px rgba(0, 0, 0, 0.3));\n",
              "      fill: #FFFFFF;\n",
              "    }\n",
              "  </style>\n",
              "\n",
              "    <script>\n",
              "      const buttonEl =\n",
              "        document.querySelector('#df-57674641-fe41-42e5-b653-8075b663febf button.colab-df-convert');\n",
              "      buttonEl.style.display =\n",
              "        google.colab.kernel.accessAllowed ? 'block' : 'none';\n",
              "\n",
              "      async function convertToInteractive(key) {\n",
              "        const element = document.querySelector('#df-57674641-fe41-42e5-b653-8075b663febf');\n",
              "        const dataTable =\n",
              "          await google.colab.kernel.invokeFunction('convertToInteractive',\n",
              "                                                    [key], {});\n",
              "        if (!dataTable) return;\n",
              "\n",
              "        const docLinkHtml = 'Like what you see? Visit the ' +\n",
              "          '<a target=\"_blank\" href=https://colab.research.google.com/notebooks/data_table.ipynb>data table notebook</a>'\n",
              "          + ' to learn more about interactive tables.';\n",
              "        element.innerHTML = '';\n",
              "        dataTable['output_type'] = 'display_data';\n",
              "        await google.colab.output.renderOutput(dataTable, element);\n",
              "        const docLink = document.createElement('div');\n",
              "        docLink.innerHTML = docLinkHtml;\n",
              "        element.appendChild(docLink);\n",
              "      }\n",
              "    </script>\n",
              "  </div>\n",
              "\n",
              "\n",
              "<div id=\"df-02280f2c-4fd3-4741-bfac-0a9734593004\">\n",
              "  <button class=\"colab-df-quickchart\" onclick=\"quickchart('df-02280f2c-4fd3-4741-bfac-0a9734593004')\"\n",
              "            title=\"Suggest charts\"\n",
              "            style=\"display:none;\">\n",
              "\n",
              "<svg xmlns=\"http://www.w3.org/2000/svg\" height=\"24px\"viewBox=\"0 0 24 24\"\n",
              "     width=\"24px\">\n",
              "    <g>\n",
              "        <path d=\"M19 3H5c-1.1 0-2 .9-2 2v14c0 1.1.9 2 2 2h14c1.1 0 2-.9 2-2V5c0-1.1-.9-2-2-2zM9 17H7v-7h2v7zm4 0h-2V7h2v10zm4 0h-2v-4h2v4z\"/>\n",
              "    </g>\n",
              "</svg>\n",
              "  </button>\n",
              "\n",
              "<style>\n",
              "  .colab-df-quickchart {\n",
              "      --bg-color: #E8F0FE;\n",
              "      --fill-color: #1967D2;\n",
              "      --hover-bg-color: #E2EBFA;\n",
              "      --hover-fill-color: #174EA6;\n",
              "      --disabled-fill-color: #AAA;\n",
              "      --disabled-bg-color: #DDD;\n",
              "  }\n",
              "\n",
              "  [theme=dark] .colab-df-quickchart {\n",
              "      --bg-color: #3B4455;\n",
              "      --fill-color: #D2E3FC;\n",
              "      --hover-bg-color: #434B5C;\n",
              "      --hover-fill-color: #FFFFFF;\n",
              "      --disabled-bg-color: #3B4455;\n",
              "      --disabled-fill-color: #666;\n",
              "  }\n",
              "\n",
              "  .colab-df-quickchart {\n",
              "    background-color: var(--bg-color);\n",
              "    border: none;\n",
              "    border-radius: 50%;\n",
              "    cursor: pointer;\n",
              "    display: none;\n",
              "    fill: var(--fill-color);\n",
              "    height: 32px;\n",
              "    padding: 0;\n",
              "    width: 32px;\n",
              "  }\n",
              "\n",
              "  .colab-df-quickchart:hover {\n",
              "    background-color: var(--hover-bg-color);\n",
              "    box-shadow: 0 1px 2px rgba(60, 64, 67, 0.3), 0 1px 3px 1px rgba(60, 64, 67, 0.15);\n",
              "    fill: var(--button-hover-fill-color);\n",
              "  }\n",
              "\n",
              "  .colab-df-quickchart-complete:disabled,\n",
              "  .colab-df-quickchart-complete:disabled:hover {\n",
              "    background-color: var(--disabled-bg-color);\n",
              "    fill: var(--disabled-fill-color);\n",
              "    box-shadow: none;\n",
              "  }\n",
              "\n",
              "  .colab-df-spinner {\n",
              "    border: 2px solid var(--fill-color);\n",
              "    border-color: transparent;\n",
              "    border-bottom-color: var(--fill-color);\n",
              "    animation:\n",
              "      spin 1s steps(1) infinite;\n",
              "  }\n",
              "\n",
              "  @keyframes spin {\n",
              "    0% {\n",
              "      border-color: transparent;\n",
              "      border-bottom-color: var(--fill-color);\n",
              "      border-left-color: var(--fill-color);\n",
              "    }\n",
              "    20% {\n",
              "      border-color: transparent;\n",
              "      border-left-color: var(--fill-color);\n",
              "      border-top-color: var(--fill-color);\n",
              "    }\n",
              "    30% {\n",
              "      border-color: transparent;\n",
              "      border-left-color: var(--fill-color);\n",
              "      border-top-color: var(--fill-color);\n",
              "      border-right-color: var(--fill-color);\n",
              "    }\n",
              "    40% {\n",
              "      border-color: transparent;\n",
              "      border-right-color: var(--fill-color);\n",
              "      border-top-color: var(--fill-color);\n",
              "    }\n",
              "    60% {\n",
              "      border-color: transparent;\n",
              "      border-right-color: var(--fill-color);\n",
              "    }\n",
              "    80% {\n",
              "      border-color: transparent;\n",
              "      border-right-color: var(--fill-color);\n",
              "      border-bottom-color: var(--fill-color);\n",
              "    }\n",
              "    90% {\n",
              "      border-color: transparent;\n",
              "      border-bottom-color: var(--fill-color);\n",
              "    }\n",
              "  }\n",
              "</style>\n",
              "\n",
              "  <script>\n",
              "    async function quickchart(key) {\n",
              "      const quickchartButtonEl =\n",
              "        document.querySelector('#' + key + ' button');\n",
              "      quickchartButtonEl.disabled = true;  // To prevent multiple clicks.\n",
              "      quickchartButtonEl.classList.add('colab-df-spinner');\n",
              "      try {\n",
              "        const charts = await google.colab.kernel.invokeFunction(\n",
              "            'suggestCharts', [key], {});\n",
              "      } catch (error) {\n",
              "        console.error('Error during call to suggestCharts:', error);\n",
              "      }\n",
              "      quickchartButtonEl.classList.remove('colab-df-spinner');\n",
              "      quickchartButtonEl.classList.add('colab-df-quickchart-complete');\n",
              "    }\n",
              "    (() => {\n",
              "      let quickchartButtonEl =\n",
              "        document.querySelector('#df-02280f2c-4fd3-4741-bfac-0a9734593004 button');\n",
              "      quickchartButtonEl.style.display =\n",
              "        google.colab.kernel.accessAllowed ? 'block' : 'none';\n",
              "    })();\n",
              "  </script>\n",
              "</div>\n",
              "\n",
              "    </div>\n",
              "  </div>\n"
            ]
          },
          "metadata": {},
          "execution_count": 4
        }
      ]
    },
    {
      "cell_type": "markdown",
      "source": [
        "\n",
        "Analyze the frequency of occurrences for values within our training target variable."
      ],
      "metadata": {
        "id": "q82Tu-0iSb5N"
      }
    },
    {
      "cell_type": "code",
      "source": [
        "y_train.value_counts()"
      ],
      "metadata": {
        "colab": {
          "base_uri": "https://localhost:8080/"
        },
        "id": "X-HMOPnqDLGH",
        "outputId": "81964d31-7dec-49ce-8235-b1023bf41a20"
      },
      "execution_count": null,
      "outputs": [
        {
          "output_type": "execute_result",
          "data": {
            "text/plain": [
              "Test Results\n",
              "1               3090\n",
              "0               2941\n",
              "dtype: int64"
            ]
          },
          "metadata": {},
          "execution_count": 5
        }
      ]
    },
    {
      "cell_type": "markdown",
      "source": [
        "\n",
        "* The target data values display a balanced distribution, indicating no requirement for upsampling."
      ],
      "metadata": {
        "id": "CTVinZ7VSyok"
      }
    },
    {
      "cell_type": "markdown",
      "source": [
        "View the initial rows of our testing data features.\n",
        "\n",
        "\n",
        "\n",
        "\n",
        "\n"
      ],
      "metadata": {
        "id": "kakYKRf5TGz_"
      }
    },
    {
      "cell_type": "code",
      "source": [
        "x_test.head()"
      ],
      "metadata": {
        "colab": {
          "base_uri": "https://localhost:8080/"
        },
        "id": "3OzqNmhtDSK7",
        "outputId": "c0135713-861d-4333-dcbc-d7e604f40a96"
      },
      "execution_count": null,
      "outputs": [
        {
          "output_type": "execute_result",
          "data": {
            "text/plain": [
              "        Age  Blood Type  Hospital  Insurance Provider  \\\n",
              "0  1.548243   -0.277910  0.546951           -0.047392   \n",
              "1 -0.691240   -0.725541 -1.504806           -0.744580   \n",
              "2  1.548243   -0.277910  1.679692            0.649796   \n",
              "3  1.349178    1.064983 -1.520835           -0.047392   \n",
              "4 -0.541941    1.512614  1.455281            1.346984   \n",
              "\n",
              "   Medical Condition_Arthritis  Medical Condition_Asthma  \\\n",
              "0                    -0.470534                 -0.439082   \n",
              "1                    -0.470534                 -0.439082   \n",
              "2                    -0.470534                 -0.439082   \n",
              "3                     2.125245                 -0.439082   \n",
              "4                    -0.470534                 -0.439082   \n",
              "\n",
              "   Medical Condition_Cancer  Medical Condition_Diabetes  \\\n",
              "0                 -0.404283                   -0.443967   \n",
              "1                 -0.404283                   -0.443967   \n",
              "2                  2.473516                   -0.443967   \n",
              "3                 -0.404283                   -0.443967   \n",
              "4                  2.473516                   -0.443967   \n",
              "\n",
              "   Medical Condition_Hypertension  Medical Condition_Obesity  \\\n",
              "0                        2.240130                  -0.477703   \n",
              "1                       -0.446403                   2.093350   \n",
              "2                       -0.446403                  -0.477703   \n",
              "3                       -0.446403                  -0.477703   \n",
              "4                       -0.446403                  -0.477703   \n",
              "\n",
              "   Medication_Aspirin  Medication_Ibuprofen  Medication_Lipitor  \\\n",
              "0           -0.506129             -0.503774           -0.506129   \n",
              "1           -0.506129              1.985019           -0.506129   \n",
              "2           -0.506129             -0.503774            1.975779   \n",
              "3           -0.506129             -0.503774           -0.506129   \n",
              "4           -0.506129              1.985019           -0.506129   \n",
              "\n",
              "   Medication_Paracetamol  Medication_Penicillin  \n",
              "0               -0.470534               1.948615  \n",
              "1               -0.470534              -0.513185  \n",
              "2               -0.470534              -0.513185  \n",
              "3                2.125245              -0.513185  \n",
              "4               -0.470534              -0.513185  "
            ],
            "text/html": [
              "\n",
              "  <div id=\"df-90ce0e14-f7ae-4268-8084-61494ade8cbb\" class=\"colab-df-container\">\n",
              "    <div>\n",
              "<style scoped>\n",
              "    .dataframe tbody tr th:only-of-type {\n",
              "        vertical-align: middle;\n",
              "    }\n",
              "\n",
              "    .dataframe tbody tr th {\n",
              "        vertical-align: top;\n",
              "    }\n",
              "\n",
              "    .dataframe thead th {\n",
              "        text-align: right;\n",
              "    }\n",
              "</style>\n",
              "<table border=\"1\" class=\"dataframe\">\n",
              "  <thead>\n",
              "    <tr style=\"text-align: right;\">\n",
              "      <th></th>\n",
              "      <th>Age</th>\n",
              "      <th>Blood Type</th>\n",
              "      <th>Hospital</th>\n",
              "      <th>Insurance Provider</th>\n",
              "      <th>Medical Condition_Arthritis</th>\n",
              "      <th>Medical Condition_Asthma</th>\n",
              "      <th>Medical Condition_Cancer</th>\n",
              "      <th>Medical Condition_Diabetes</th>\n",
              "      <th>Medical Condition_Hypertension</th>\n",
              "      <th>Medical Condition_Obesity</th>\n",
              "      <th>Medication_Aspirin</th>\n",
              "      <th>Medication_Ibuprofen</th>\n",
              "      <th>Medication_Lipitor</th>\n",
              "      <th>Medication_Paracetamol</th>\n",
              "      <th>Medication_Penicillin</th>\n",
              "    </tr>\n",
              "  </thead>\n",
              "  <tbody>\n",
              "    <tr>\n",
              "      <th>0</th>\n",
              "      <td>1.548243</td>\n",
              "      <td>-0.277910</td>\n",
              "      <td>0.546951</td>\n",
              "      <td>-0.047392</td>\n",
              "      <td>-0.470534</td>\n",
              "      <td>-0.439082</td>\n",
              "      <td>-0.404283</td>\n",
              "      <td>-0.443967</td>\n",
              "      <td>2.240130</td>\n",
              "      <td>-0.477703</td>\n",
              "      <td>-0.506129</td>\n",
              "      <td>-0.503774</td>\n",
              "      <td>-0.506129</td>\n",
              "      <td>-0.470534</td>\n",
              "      <td>1.948615</td>\n",
              "    </tr>\n",
              "    <tr>\n",
              "      <th>1</th>\n",
              "      <td>-0.691240</td>\n",
              "      <td>-0.725541</td>\n",
              "      <td>-1.504806</td>\n",
              "      <td>-0.744580</td>\n",
              "      <td>-0.470534</td>\n",
              "      <td>-0.439082</td>\n",
              "      <td>-0.404283</td>\n",
              "      <td>-0.443967</td>\n",
              "      <td>-0.446403</td>\n",
              "      <td>2.093350</td>\n",
              "      <td>-0.506129</td>\n",
              "      <td>1.985019</td>\n",
              "      <td>-0.506129</td>\n",
              "      <td>-0.470534</td>\n",
              "      <td>-0.513185</td>\n",
              "    </tr>\n",
              "    <tr>\n",
              "      <th>2</th>\n",
              "      <td>1.548243</td>\n",
              "      <td>-0.277910</td>\n",
              "      <td>1.679692</td>\n",
              "      <td>0.649796</td>\n",
              "      <td>-0.470534</td>\n",
              "      <td>-0.439082</td>\n",
              "      <td>2.473516</td>\n",
              "      <td>-0.443967</td>\n",
              "      <td>-0.446403</td>\n",
              "      <td>-0.477703</td>\n",
              "      <td>-0.506129</td>\n",
              "      <td>-0.503774</td>\n",
              "      <td>1.975779</td>\n",
              "      <td>-0.470534</td>\n",
              "      <td>-0.513185</td>\n",
              "    </tr>\n",
              "    <tr>\n",
              "      <th>3</th>\n",
              "      <td>1.349178</td>\n",
              "      <td>1.064983</td>\n",
              "      <td>-1.520835</td>\n",
              "      <td>-0.047392</td>\n",
              "      <td>2.125245</td>\n",
              "      <td>-0.439082</td>\n",
              "      <td>-0.404283</td>\n",
              "      <td>-0.443967</td>\n",
              "      <td>-0.446403</td>\n",
              "      <td>-0.477703</td>\n",
              "      <td>-0.506129</td>\n",
              "      <td>-0.503774</td>\n",
              "      <td>-0.506129</td>\n",
              "      <td>2.125245</td>\n",
              "      <td>-0.513185</td>\n",
              "    </tr>\n",
              "    <tr>\n",
              "      <th>4</th>\n",
              "      <td>-0.541941</td>\n",
              "      <td>1.512614</td>\n",
              "      <td>1.455281</td>\n",
              "      <td>1.346984</td>\n",
              "      <td>-0.470534</td>\n",
              "      <td>-0.439082</td>\n",
              "      <td>2.473516</td>\n",
              "      <td>-0.443967</td>\n",
              "      <td>-0.446403</td>\n",
              "      <td>-0.477703</td>\n",
              "      <td>-0.506129</td>\n",
              "      <td>1.985019</td>\n",
              "      <td>-0.506129</td>\n",
              "      <td>-0.470534</td>\n",
              "      <td>-0.513185</td>\n",
              "    </tr>\n",
              "  </tbody>\n",
              "</table>\n",
              "</div>\n",
              "    <div class=\"colab-df-buttons\">\n",
              "\n",
              "  <div class=\"colab-df-container\">\n",
              "    <button class=\"colab-df-convert\" onclick=\"convertToInteractive('df-90ce0e14-f7ae-4268-8084-61494ade8cbb')\"\n",
              "            title=\"Convert this dataframe to an interactive table.\"\n",
              "            style=\"display:none;\">\n",
              "\n",
              "  <svg xmlns=\"http://www.w3.org/2000/svg\" height=\"24px\" viewBox=\"0 -960 960 960\">\n",
              "    <path d=\"M120-120v-720h720v720H120Zm60-500h600v-160H180v160Zm220 220h160v-160H400v160Zm0 220h160v-160H400v160ZM180-400h160v-160H180v160Zm440 0h160v-160H620v160ZM180-180h160v-160H180v160Zm440 0h160v-160H620v160Z\"/>\n",
              "  </svg>\n",
              "    </button>\n",
              "\n",
              "  <style>\n",
              "    .colab-df-container {\n",
              "      display:flex;\n",
              "      gap: 12px;\n",
              "    }\n",
              "\n",
              "    .colab-df-convert {\n",
              "      background-color: #E8F0FE;\n",
              "      border: none;\n",
              "      border-radius: 50%;\n",
              "      cursor: pointer;\n",
              "      display: none;\n",
              "      fill: #1967D2;\n",
              "      height: 32px;\n",
              "      padding: 0 0 0 0;\n",
              "      width: 32px;\n",
              "    }\n",
              "\n",
              "    .colab-df-convert:hover {\n",
              "      background-color: #E2EBFA;\n",
              "      box-shadow: 0px 1px 2px rgba(60, 64, 67, 0.3), 0px 1px 3px 1px rgba(60, 64, 67, 0.15);\n",
              "      fill: #174EA6;\n",
              "    }\n",
              "\n",
              "    .colab-df-buttons div {\n",
              "      margin-bottom: 4px;\n",
              "    }\n",
              "\n",
              "    [theme=dark] .colab-df-convert {\n",
              "      background-color: #3B4455;\n",
              "      fill: #D2E3FC;\n",
              "    }\n",
              "\n",
              "    [theme=dark] .colab-df-convert:hover {\n",
              "      background-color: #434B5C;\n",
              "      box-shadow: 0px 1px 3px 1px rgba(0, 0, 0, 0.15);\n",
              "      filter: drop-shadow(0px 1px 2px rgba(0, 0, 0, 0.3));\n",
              "      fill: #FFFFFF;\n",
              "    }\n",
              "  </style>\n",
              "\n",
              "    <script>\n",
              "      const buttonEl =\n",
              "        document.querySelector('#df-90ce0e14-f7ae-4268-8084-61494ade8cbb button.colab-df-convert');\n",
              "      buttonEl.style.display =\n",
              "        google.colab.kernel.accessAllowed ? 'block' : 'none';\n",
              "\n",
              "      async function convertToInteractive(key) {\n",
              "        const element = document.querySelector('#df-90ce0e14-f7ae-4268-8084-61494ade8cbb');\n",
              "        const dataTable =\n",
              "          await google.colab.kernel.invokeFunction('convertToInteractive',\n",
              "                                                    [key], {});\n",
              "        if (!dataTable) return;\n",
              "\n",
              "        const docLinkHtml = 'Like what you see? Visit the ' +\n",
              "          '<a target=\"_blank\" href=https://colab.research.google.com/notebooks/data_table.ipynb>data table notebook</a>'\n",
              "          + ' to learn more about interactive tables.';\n",
              "        element.innerHTML = '';\n",
              "        dataTable['output_type'] = 'display_data';\n",
              "        await google.colab.output.renderOutput(dataTable, element);\n",
              "        const docLink = document.createElement('div');\n",
              "        docLink.innerHTML = docLinkHtml;\n",
              "        element.appendChild(docLink);\n",
              "      }\n",
              "    </script>\n",
              "  </div>\n",
              "\n",
              "\n",
              "<div id=\"df-bd974694-764d-4b74-917e-0505cf434612\">\n",
              "  <button class=\"colab-df-quickchart\" onclick=\"quickchart('df-bd974694-764d-4b74-917e-0505cf434612')\"\n",
              "            title=\"Suggest charts\"\n",
              "            style=\"display:none;\">\n",
              "\n",
              "<svg xmlns=\"http://www.w3.org/2000/svg\" height=\"24px\"viewBox=\"0 0 24 24\"\n",
              "     width=\"24px\">\n",
              "    <g>\n",
              "        <path d=\"M19 3H5c-1.1 0-2 .9-2 2v14c0 1.1.9 2 2 2h14c1.1 0 2-.9 2-2V5c0-1.1-.9-2-2-2zM9 17H7v-7h2v7zm4 0h-2V7h2v10zm4 0h-2v-4h2v4z\"/>\n",
              "    </g>\n",
              "</svg>\n",
              "  </button>\n",
              "\n",
              "<style>\n",
              "  .colab-df-quickchart {\n",
              "      --bg-color: #E8F0FE;\n",
              "      --fill-color: #1967D2;\n",
              "      --hover-bg-color: #E2EBFA;\n",
              "      --hover-fill-color: #174EA6;\n",
              "      --disabled-fill-color: #AAA;\n",
              "      --disabled-bg-color: #DDD;\n",
              "  }\n",
              "\n",
              "  [theme=dark] .colab-df-quickchart {\n",
              "      --bg-color: #3B4455;\n",
              "      --fill-color: #D2E3FC;\n",
              "      --hover-bg-color: #434B5C;\n",
              "      --hover-fill-color: #FFFFFF;\n",
              "      --disabled-bg-color: #3B4455;\n",
              "      --disabled-fill-color: #666;\n",
              "  }\n",
              "\n",
              "  .colab-df-quickchart {\n",
              "    background-color: var(--bg-color);\n",
              "    border: none;\n",
              "    border-radius: 50%;\n",
              "    cursor: pointer;\n",
              "    display: none;\n",
              "    fill: var(--fill-color);\n",
              "    height: 32px;\n",
              "    padding: 0;\n",
              "    width: 32px;\n",
              "  }\n",
              "\n",
              "  .colab-df-quickchart:hover {\n",
              "    background-color: var(--hover-bg-color);\n",
              "    box-shadow: 0 1px 2px rgba(60, 64, 67, 0.3), 0 1px 3px 1px rgba(60, 64, 67, 0.15);\n",
              "    fill: var(--button-hover-fill-color);\n",
              "  }\n",
              "\n",
              "  .colab-df-quickchart-complete:disabled,\n",
              "  .colab-df-quickchart-complete:disabled:hover {\n",
              "    background-color: var(--disabled-bg-color);\n",
              "    fill: var(--disabled-fill-color);\n",
              "    box-shadow: none;\n",
              "  }\n",
              "\n",
              "  .colab-df-spinner {\n",
              "    border: 2px solid var(--fill-color);\n",
              "    border-color: transparent;\n",
              "    border-bottom-color: var(--fill-color);\n",
              "    animation:\n",
              "      spin 1s steps(1) infinite;\n",
              "  }\n",
              "\n",
              "  @keyframes spin {\n",
              "    0% {\n",
              "      border-color: transparent;\n",
              "      border-bottom-color: var(--fill-color);\n",
              "      border-left-color: var(--fill-color);\n",
              "    }\n",
              "    20% {\n",
              "      border-color: transparent;\n",
              "      border-left-color: var(--fill-color);\n",
              "      border-top-color: var(--fill-color);\n",
              "    }\n",
              "    30% {\n",
              "      border-color: transparent;\n",
              "      border-left-color: var(--fill-color);\n",
              "      border-top-color: var(--fill-color);\n",
              "      border-right-color: var(--fill-color);\n",
              "    }\n",
              "    40% {\n",
              "      border-color: transparent;\n",
              "      border-right-color: var(--fill-color);\n",
              "      border-top-color: var(--fill-color);\n",
              "    }\n",
              "    60% {\n",
              "      border-color: transparent;\n",
              "      border-right-color: var(--fill-color);\n",
              "    }\n",
              "    80% {\n",
              "      border-color: transparent;\n",
              "      border-right-color: var(--fill-color);\n",
              "      border-bottom-color: var(--fill-color);\n",
              "    }\n",
              "    90% {\n",
              "      border-color: transparent;\n",
              "      border-bottom-color: var(--fill-color);\n",
              "    }\n",
              "  }\n",
              "</style>\n",
              "\n",
              "  <script>\n",
              "    async function quickchart(key) {\n",
              "      const quickchartButtonEl =\n",
              "        document.querySelector('#' + key + ' button');\n",
              "      quickchartButtonEl.disabled = true;  // To prevent multiple clicks.\n",
              "      quickchartButtonEl.classList.add('colab-df-spinner');\n",
              "      try {\n",
              "        const charts = await google.colab.kernel.invokeFunction(\n",
              "            'suggestCharts', [key], {});\n",
              "      } catch (error) {\n",
              "        console.error('Error during call to suggestCharts:', error);\n",
              "      }\n",
              "      quickchartButtonEl.classList.remove('colab-df-spinner');\n",
              "      quickchartButtonEl.classList.add('colab-df-quickchart-complete');\n",
              "    }\n",
              "    (() => {\n",
              "      let quickchartButtonEl =\n",
              "        document.querySelector('#df-bd974694-764d-4b74-917e-0505cf434612 button');\n",
              "      quickchartButtonEl.style.display =\n",
              "        google.colab.kernel.accessAllowed ? 'block' : 'none';\n",
              "    })();\n",
              "  </script>\n",
              "</div>\n",
              "\n",
              "    </div>\n",
              "  </div>\n"
            ]
          },
          "metadata": {},
          "execution_count": 6
        }
      ]
    },
    {
      "cell_type": "markdown",
      "source": [
        "\n",
        "Examine the occurrence count of our testing target variable's values.\n",
        "\n",
        "\n"
      ],
      "metadata": {
        "id": "HM2aXJvATI1b"
      }
    },
    {
      "cell_type": "code",
      "source": [
        "y_test.value_counts()"
      ],
      "metadata": {
        "colab": {
          "base_uri": "https://localhost:8080/"
        },
        "id": "kZg3X848DUkl",
        "outputId": "af7e651c-ef31-4fc5-f414-e168cbd35fea"
      },
      "execution_count": null,
      "outputs": [
        {
          "output_type": "execute_result",
          "data": {
            "text/plain": [
              "Test Results\n",
              "1               348\n",
              "0               314\n",
              "dtype: int64"
            ]
          },
          "metadata": {},
          "execution_count": 7
        }
      ]
    },
    {
      "cell_type": "markdown",
      "source": [
        "### 1. Logistic Regression"
      ],
      "metadata": {
        "id": "9BaAxPel-RNp"
      }
    },
    {
      "cell_type": "markdown",
      "source": [
        "\n",
        "Import the LogisticRegression module from the sklearn library."
      ],
      "metadata": {
        "id": "uvBZZsMRTTj1"
      }
    },
    {
      "cell_type": "code",
      "source": [
        "from sklearn.linear_model import LogisticRegression"
      ],
      "metadata": {
        "id": "c5xhL33CHd-F"
      },
      "execution_count": null,
      "outputs": []
    },
    {
      "cell_type": "markdown",
      "source": [
        "\n",
        "Creating an instance of logistic regression as a binary classifier."
      ],
      "metadata": {
        "id": "l-XAikrzTfiv"
      }
    },
    {
      "cell_type": "code",
      "execution_count": null,
      "metadata": {
        "id": "WKBoBLXn7-P-"
      },
      "outputs": [],
      "source": [
        "model = LogisticRegression()"
      ]
    },
    {
      "cell_type": "markdown",
      "source": [
        "Training the Logistic Regression model by fitting it with the training data."
      ],
      "metadata": {
        "id": "W6RdC4bdTsYu"
      }
    },
    {
      "cell_type": "code",
      "source": [
        "model.fit(x_train,y_train)"
      ],
      "metadata": {
        "colab": {
          "base_uri": "https://localhost:8080/",
          "height": 74
        },
        "id": "rpH2s1VaDfvE",
        "outputId": "7b825a21-194d-40da-86a4-dbab86cd152e"
      },
      "execution_count": null,
      "outputs": [
        {
          "output_type": "execute_result",
          "data": {
            "text/plain": [
              "LogisticRegression()"
            ],
            "text/html": [
              "<style>#sk-container-id-1 {color: black;background-color: white;}#sk-container-id-1 pre{padding: 0;}#sk-container-id-1 div.sk-toggleable {background-color: white;}#sk-container-id-1 label.sk-toggleable__label {cursor: pointer;display: block;width: 100%;margin-bottom: 0;padding: 0.3em;box-sizing: border-box;text-align: center;}#sk-container-id-1 label.sk-toggleable__label-arrow:before {content: \"▸\";float: left;margin-right: 0.25em;color: #696969;}#sk-container-id-1 label.sk-toggleable__label-arrow:hover:before {color: black;}#sk-container-id-1 div.sk-estimator:hover label.sk-toggleable__label-arrow:before {color: black;}#sk-container-id-1 div.sk-toggleable__content {max-height: 0;max-width: 0;overflow: hidden;text-align: left;background-color: #f0f8ff;}#sk-container-id-1 div.sk-toggleable__content pre {margin: 0.2em;color: black;border-radius: 0.25em;background-color: #f0f8ff;}#sk-container-id-1 input.sk-toggleable__control:checked~div.sk-toggleable__content {max-height: 200px;max-width: 100%;overflow: auto;}#sk-container-id-1 input.sk-toggleable__control:checked~label.sk-toggleable__label-arrow:before {content: \"▾\";}#sk-container-id-1 div.sk-estimator input.sk-toggleable__control:checked~label.sk-toggleable__label {background-color: #d4ebff;}#sk-container-id-1 div.sk-label input.sk-toggleable__control:checked~label.sk-toggleable__label {background-color: #d4ebff;}#sk-container-id-1 input.sk-hidden--visually {border: 0;clip: rect(1px 1px 1px 1px);clip: rect(1px, 1px, 1px, 1px);height: 1px;margin: -1px;overflow: hidden;padding: 0;position: absolute;width: 1px;}#sk-container-id-1 div.sk-estimator {font-family: monospace;background-color: #f0f8ff;border: 1px dotted black;border-radius: 0.25em;box-sizing: border-box;margin-bottom: 0.5em;}#sk-container-id-1 div.sk-estimator:hover {background-color: #d4ebff;}#sk-container-id-1 div.sk-parallel-item::after {content: \"\";width: 100%;border-bottom: 1px solid gray;flex-grow: 1;}#sk-container-id-1 div.sk-label:hover label.sk-toggleable__label {background-color: #d4ebff;}#sk-container-id-1 div.sk-serial::before {content: \"\";position: absolute;border-left: 1px solid gray;box-sizing: border-box;top: 0;bottom: 0;left: 50%;z-index: 0;}#sk-container-id-1 div.sk-serial {display: flex;flex-direction: column;align-items: center;background-color: white;padding-right: 0.2em;padding-left: 0.2em;position: relative;}#sk-container-id-1 div.sk-item {position: relative;z-index: 1;}#sk-container-id-1 div.sk-parallel {display: flex;align-items: stretch;justify-content: center;background-color: white;position: relative;}#sk-container-id-1 div.sk-item::before, #sk-container-id-1 div.sk-parallel-item::before {content: \"\";position: absolute;border-left: 1px solid gray;box-sizing: border-box;top: 0;bottom: 0;left: 50%;z-index: -1;}#sk-container-id-1 div.sk-parallel-item {display: flex;flex-direction: column;z-index: 1;position: relative;background-color: white;}#sk-container-id-1 div.sk-parallel-item:first-child::after {align-self: flex-end;width: 50%;}#sk-container-id-1 div.sk-parallel-item:last-child::after {align-self: flex-start;width: 50%;}#sk-container-id-1 div.sk-parallel-item:only-child::after {width: 0;}#sk-container-id-1 div.sk-dashed-wrapped {border: 1px dashed gray;margin: 0 0.4em 0.5em 0.4em;box-sizing: border-box;padding-bottom: 0.4em;background-color: white;}#sk-container-id-1 div.sk-label label {font-family: monospace;font-weight: bold;display: inline-block;line-height: 1.2em;}#sk-container-id-1 div.sk-label-container {text-align: center;}#sk-container-id-1 div.sk-container {/* jupyter's `normalize.less` sets `[hidden] { display: none; }` but bootstrap.min.css set `[hidden] { display: none !important; }` so we also need the `!important` here to be able to override the default hidden behavior on the sphinx rendered scikit-learn.org. See: https://github.com/scikit-learn/scikit-learn/issues/21755 */display: inline-block !important;position: relative;}#sk-container-id-1 div.sk-text-repr-fallback {display: none;}</style><div id=\"sk-container-id-1\" class=\"sk-top-container\"><div class=\"sk-text-repr-fallback\"><pre>LogisticRegression()</pre><b>In a Jupyter environment, please rerun this cell to show the HTML representation or trust the notebook. <br />On GitHub, the HTML representation is unable to render, please try loading this page with nbviewer.org.</b></div><div class=\"sk-container\" hidden><div class=\"sk-item\"><div class=\"sk-estimator sk-toggleable\"><input class=\"sk-toggleable__control sk-hidden--visually\" id=\"sk-estimator-id-1\" type=\"checkbox\" checked><label for=\"sk-estimator-id-1\" class=\"sk-toggleable__label sk-toggleable__label-arrow\">LogisticRegression</label><div class=\"sk-toggleable__content\"><pre>LogisticRegression()</pre></div></div></div></div></div>"
            ]
          },
          "metadata": {},
          "execution_count": 10
        }
      ]
    },
    {
      "cell_type": "markdown",
      "source": [
        "\n",
        "Obtaining predictions from the model using the training data to assess for overfitting and acquiring predictions from the testing data to evaluate the model's performance."
      ],
      "metadata": {
        "id": "9cCkFmyBT_LI"
      }
    },
    {
      "cell_type": "code",
      "source": [
        "y_pred=model.predict(x_test)\n",
        "y_pred_train=model.predict(x_train)"
      ],
      "metadata": {
        "id": "NbmcRU1UDhos"
      },
      "execution_count": null,
      "outputs": []
    },
    {
      "cell_type": "markdown",
      "source": [
        "\n",
        "Evaluating the accuracy of predictions made on both the training and testing datasets."
      ],
      "metadata": {
        "id": "cdbJsGTnU9iy"
      }
    },
    {
      "cell_type": "code",
      "source": [
        "print(f\"Metrics train:\\n\\tAccuracy score: {accuracy_score(y_train,y_pred_train)*100:.2f}\")\n",
        "print(f\"Metrics Test:\\n\\tAccuracy score: {accuracy_score(y_test,y_pred)*100:.2f}\")"
      ],
      "metadata": {
        "colab": {
          "base_uri": "https://localhost:8080/"
        },
        "id": "qBLwdAJcDuUo",
        "outputId": "da325ffc-4ba0-4095-e843-fbe4863d20c6"
      },
      "execution_count": null,
      "outputs": [
        {
          "output_type": "stream",
          "name": "stdout",
          "text": [
            "Metrics train:\n",
            "\tAccuracy score: 51.95\n",
            "Metrics Test:\n",
            "\tAccuracy score: 50.45\n"
          ]
        }
      ]
    },
    {
      "cell_type": "markdown",
      "source": [
        "Visualizing the confusion matrix to further evaluate the model's performance."
      ],
      "metadata": {
        "id": "pqDxHjwNVv8F"
      }
    },
    {
      "cell_type": "code",
      "source": [
        "cm = confusion_matrix(y_test, y_pred)\n",
        "\n",
        "plt.figure(figsize=(4, 4))\n",
        "sns.heatmap(cm, annot=True, fmt='d', cmap='Blues', cbar=False, xticklabels=['0', '1'], yticklabels=['0', '1'])\n",
        "\n",
        "plt.title('Confusion Matrix')\n",
        "plt.xlabel('Actual Labels')\n",
        "plt.ylabel('Predicted Labels')\n",
        "\n",
        "plt.show()"
      ],
      "metadata": {
        "colab": {
          "base_uri": "https://localhost:8080/",
          "height": 410
        },
        "id": "62E92q6JDq7u",
        "outputId": "c54ecaf4-75b7-4f05-ca9d-692cc77af7fe"
      },
      "execution_count": null,
      "outputs": [
        {
          "output_type": "display_data",
          "data": {
            "text/plain": [
              "<Figure size 400x400 with 1 Axes>"
            ],
            "image/png": "[encoded data removed]"
          },
          "metadata": {}
        }
      ]
    },
    {
      "cell_type": "markdown",
      "source": [
        "Based on this Conusion matrix Evaluation :\n",
        "\n",
        "* **94** instances were correctly predicted as class 0 **```(True Negatives)```**.\n",
        "\n",
        "* **240** instances were correctly predicted as class 1 **```(True Positives)```**.\n",
        "\n",
        "* **220** instances were predicted as class 1 but were actually class 0 **```(False Positives)```**.\n",
        "* **108** instances were predicted as class 0 but were actually class 1 **```(False Negatives)```**.\n",
        "\n",
        "The model exhibits a notably high rate of false negatives, suggesting a tendency to make insufficient predictions for normal cases,while maintaining fewer mispredictions for abnormal cases. This bias is evident in the model's stronger prediction performance for class 1 with fewer mistakes, whereas for class 0, it frequently mispredicts, resulting in more substantial errors.\n",
        "\n",
        "\n",
        "\n"
      ],
      "metadata": {
        "id": "oWcImDo1WR0A"
      }
    },
    {
      "cell_type": "markdown",
      "source": [
        "For additional validation of the model's performance, we will analyze its Classification Report, focusing on metrics such as recall, precision, and f1 score."
      ],
      "metadata": {
        "id": "UkTGvsn8X8yq"
      }
    },
    {
      "cell_type": "code",
      "source": [
        "print(\"\\nClassification Report for Test Set:\")\n",
        "print(classification_report(y_test, y_pred))"
      ],
      "metadata": {
        "colab": {
          "base_uri": "https://localhost:8080/"
        },
        "id": "fftzjIa0Dlyf",
        "outputId": "1b78871b-6c1b-4b6c-f870-3c2eff603bbc"
      },
      "execution_count": null,
      "outputs": [
        {
          "output_type": "stream",
          "name": "stdout",
          "text": [
            "\n",
            "Classification Report for Test Set:\n",
            "              precision    recall  f1-score   support\n",
            "\n",
            "           0       0.47      0.30      0.36       314\n",
            "           1       0.52      0.69      0.59       348\n",
            "\n",
            "    accuracy                           0.50       662\n",
            "   macro avg       0.49      0.49      0.48       662\n",
            "weighted avg       0.49      0.50      0.49       662\n",
            "\n"
          ]
        }
      ]
    },
    {
      "cell_type": "markdown",
      "source": [
        "* Based on the classification report of this model, we can see that the precision,recall and f1 score for class 0 is very low which indicates and confirms the high false predictions this model achieve regarding class 0,while it attain a noticbly better metrics for class 1."
      ],
      "metadata": {
        "id": "NQdRVblWlhEg"
      }
    },
    {
      "cell_type": "markdown",
      "source": [
        "Plotting the ROC Curve and AUC aids in identifying an optimal threshold to minimize the False positive Rate, aiming to enhance the model's performance by effectively reducing missed negative predictions."
      ],
      "metadata": {
        "id": "_JRXsNglasMf"
      }
    },
    {
      "cell_type": "code",
      "source": [
        "# Get the predicted probabilities for the positive class (class 1)\n",
        "train_probs = model.predict_proba(x_train)[:, 1]\n",
        "test_probs = model.predict_proba(x_test)[:, 1]\n",
        "\n",
        "# Calculate the ROC curve for training set\n",
        "fpr_train, tpr_train, thresholds_train = roc_curve(y_train, train_probs)\n",
        "roc_auc_train = auc(fpr_train, tpr_train)\n",
        "\n",
        "# Calculate the ROC curve for test set\n",
        "fpr_test, tpr_test,thresholds_test = roc_curve(y_test, test_probs)\n",
        "roc_auc_test = auc(fpr_test, tpr_test)\n",
        "\n",
        "# Plot ROC curve for training set\n",
        "plt.figure(figsize=(8, 6))\n",
        "plt.plot(fpr_train, tpr_train, label=f'Train ROC curve (AUC = {roc_auc_train:.2f})')\n",
        "# Plot ROC curve for test set\n",
        "plt.plot(fpr_test, tpr_test, label=f'Test ROC curve (AUC = {roc_auc_test:.2f})')\n",
        "\n",
        "for i, threshold in enumerate(thresholds_test):\n",
        "    if i % 50 == 0:  # Display a subset of thresholds for better readability\n",
        "        plt.annotate(f'{threshold:.2f}', (fpr_test[i], tpr_test[i]), textcoords=\"offset points\", xytext=(5,5), ha='center')\n",
        "\n",
        "# Plot the diagonal line (random classifier)\n",
        "plt.plot([0, 1], [0, 1], 'r--', label='Random Classifier')\n",
        "\n",
        "# Set labels and title\n",
        "plt.xlabel('False Positive Rate')\n",
        "plt.ylabel('True Positive Rate')\n",
        "plt.title('ROC Curve')\n",
        "plt.legend()\n",
        "plt.show()\n"
      ],
      "metadata": {
        "colab": {
          "base_uri": "https://localhost:8080/",
          "height": 564
        },
        "id": "VXpK43MaD84b",
        "outputId": "8309bd39-83c7-46d7-df75-43cbd11ede0a"
      },
      "execution_count": null,
      "outputs": [
        {
          "output_type": "display_data",
          "data": {
            "text/plain": [
              "<Figure size 800x600 with 1 Axes>"
            ],
            "image/png": "[encoded data removed]"
          },
          "metadata": {}
        }
      ]
    },
    {
      "cell_type": "markdown",
      "source": [
        "- The identified threshold of 0.52 offers the optimal balance, effectively reducing False positive Rate while concurrently elevating True positive Rate, thereby enhancing the model's ability to accurately classify positive instances."
      ],
      "metadata": {
        "id": "fdblxweWazPU"
      }
    },
    {
      "cell_type": "code",
      "source": [
        "threshold=0.519\n",
        "\n",
        "test_prob=model.predict_proba(x_test)\n",
        "\n",
        "predicted_labels = (test_prob[:, 1] >= threshold).astype(int)\n"
      ],
      "metadata": {
        "id": "2spMjk6ZExV6"
      },
      "execution_count": null,
      "outputs": []
    },
    {
      "cell_type": "markdown",
      "source": [
        "Generate predictions post-adjusting the threshold to 0.52, thereby refining the model's classification outcomes to prioritize improved accuracy in distinguishing positive instances."
      ],
      "metadata": {
        "id": "rTHoi4tsbJlB"
      }
    },
    {
      "cell_type": "markdown",
      "source": [
        "Recalculating the accuracy of the generated predictions after modifying the threshold to 0.52 to assess potential enhancements in the model's performance"
      ],
      "metadata": {
        "id": "3_WX0b8vbM59"
      }
    },
    {
      "cell_type": "code",
      "source": [
        "print(f\"Metrics Test:\\n\\tAccuracy score: {accuracy_score(y_test,predicted_labels)*100:.2f}\")"
      ],
      "metadata": {
        "colab": {
          "base_uri": "https://localhost:8080/"
        },
        "id": "ENfeh6QKFIDD",
        "outputId": "50c73c20-019d-451b-b6d7-52a5ac133b26"
      },
      "execution_count": null,
      "outputs": [
        {
          "output_type": "stream",
          "name": "stdout",
          "text": [
            "Metrics Test:\n",
            "\tAccuracy score: 56.34\n"
          ]
        }
      ]
    },
    {
      "cell_type": "markdown",
      "source": [
        "\n",
        "* A clear observation is the 6% increase in prediction accuracy, suggesting that the chosen threshold value was optimal and played a role in improving the model's performance"
      ],
      "metadata": {
        "id": "7OIkDryhbs5g"
      }
    },
    {
      "cell_type": "markdown",
      "source": [
        "Re-analyzing the confusion matrix  to confirm the improvement in predicting true negatives and reducing the previously observed mispredictions towards class 0."
      ],
      "metadata": {
        "id": "rUUGLonHcSgN"
      }
    },
    {
      "cell_type": "code",
      "source": [
        "cm = confusion_matrix(y_test, predicted_labels)\n",
        "\n",
        "plt.figure(figsize=(4, 4))\n",
        "sns.heatmap(cm, annot=True, fmt='d', cmap='Blues', cbar=False, xticklabels=['0', '1'], yticklabels=['0', '1'])\n",
        "\n",
        "plt.title('Confusion Matrix')\n",
        "plt.xlabel('Actual Labels')\n",
        "plt.ylabel('Predicted Labels')\n",
        "\n",
        "plt.show()"
      ],
      "metadata": {
        "colab": {
          "base_uri": "https://localhost:8080/",
          "height": 410
        },
        "id": "-4dA81-0FAgj",
        "outputId": "071e8fbd-4e92-4346-cdc0-a1975d21d8eb"
      },
      "execution_count": null,
      "outputs": [
        {
          "output_type": "display_data",
          "data": {
            "text/plain": [
              "<Figure size 400x400 with 1 Axes>"
            ],
            "image/png": "[encoded data removed]"
          },
          "metadata": {}
        }
      ]
    },
    {
      "cell_type": "markdown",
      "source": [
        "[[True Negative   False Positive]<br>\n",
        " [False Negative   True Positive]]\n"
      ],
      "metadata": {
        "id": "fAXtBTz2bLaU"
      }
    },
    {
      "cell_type": "markdown",
      "source": [
        "Based on this Conusion matrix Evaluation :\n",
        "\n",
        "* **217** instances were correctly predicted as class 0 **```(True Negatives)```**.\n",
        "\n",
        "* **156** instances were correctly predicted as class 1 **```(True Positives)```**.\n",
        "\n",
        "* **192** instances were predicted as class 1 but were actually class 0 **```(False Negatives)```**.\n",
        "* **97** instances were predicted as class 0 but were actually class 1 **```(False Positives)```**."
      ],
      "metadata": {
        "id": "ezC5tupgc9b6"
      }
    },
    {
      "cell_type": "markdown",
      "source": [
        "* Notably observed is the substantial improvement in accurately predicting instances belonging to class 0, rising notably from 70 to 217, accompanied by a considerable decrease in mispredictions associated with this class."
      ],
      "metadata": {
        "id": "k7yzwEoLeHmL"
      }
    },
    {
      "cell_type": "code",
      "source": [
        "print(\"\\nClassification Report for Test Set:\")\n",
        "print(classification_report(y_test, predicted_labels))"
      ],
      "metadata": {
        "colab": {
          "base_uri": "https://localhost:8080/"
        },
        "id": "5NabzQzwFp9e",
        "outputId": "de4261a7-82ca-46e3-dbf2-e32695705047"
      },
      "execution_count": null,
      "outputs": [
        {
          "output_type": "stream",
          "name": "stdout",
          "text": [
            "\n",
            "Classification Report for Test Set:\n",
            "              precision    recall  f1-score   support\n",
            "\n",
            "           0       0.53      0.69      0.60       314\n",
            "           1       0.62      0.45      0.52       348\n",
            "\n",
            "    accuracy                           0.56       662\n",
            "   macro avg       0.57      0.57      0.56       662\n",
            "weighted avg       0.58      0.56      0.56       662\n",
            "\n"
          ]
        }
      ]
    },
    {
      "cell_type": "markdown",
      "source": [
        "Concerning the previously observed metrics - precision, recall, and F1-score - notable improvements were evident following the adjustment of the threshold value. This adjustment notably reduced the mispredictions in class 0, showcasing a significant enhancement in performance."
      ],
      "metadata": {
        "id": "OFxs8wmsnTLs"
      }
    },
    {
      "cell_type": "markdown",
      "source": [
        "### 2. Decision Tree"
      ],
      "metadata": {
        "id": "mdR18MsCFn7B"
      }
    },
    {
      "cell_type": "code",
      "source": [
        "from sklearn.tree import DecisionTreeClassifier"
      ],
      "metadata": {
        "id": "g3BiTH39HbFk"
      },
      "execution_count": null,
      "outputs": []
    },
    {
      "cell_type": "code",
      "source": [
        "min_samples_split_list = [2,10,20, 30, 50,70, 100,150, 200, 300,400 ,700] ## If the number is an integer, then it is the actual quantity of samples,\n",
        "max_depth_list = [1,2, 3, 4,8,10,16,20,25, 32, 64,70,80,100, None]"
      ],
      "metadata": {
        "id": "G1nNSSlUFhKl"
      },
      "execution_count": null,
      "outputs": []
    },
    {
      "cell_type": "markdown",
      "source": [
        "Iterating through all values in the Min samples split list to assess our model's performance on both train and test data, emphasizing the objective of preventing overfitting by finding an optimal parameter value for splitting nodes."
      ],
      "metadata": {
        "id": "jW_b32e1e3ey"
      }
    },
    {
      "cell_type": "code",
      "source": [
        "accuracy_list_train = []\n",
        "accuracy_list_val = []\n",
        "for min_samples_split in min_samples_split_list:\n",
        "    # You can fit the model at the same time you define it, because the fit function returns the fitted estimator.\n",
        "    model = DecisionTreeClassifier(min_samples_split = min_samples_split,\n",
        "                                   random_state = 42).fit(x_train,y_train)\n",
        "    predictions_train = model.predict(x_train) ## The predicted values for the train dataset\n",
        "\n",
        "    predictions_val = model.predict(x_test) ## The predicted values for the test dataset\n",
        "\n",
        "    accuracy_train = accuracy_score(predictions_train,y_train)\n",
        "    accuracy_val = accuracy_score(predictions_val,y_test)\n",
        "    accuracy_list_train.append(accuracy_train)\n",
        "    accuracy_list_val.append(accuracy_val)\n",
        "\n",
        "plt.title('Train x Validation metrics')\n",
        "plt.xlabel('min_samples_split')\n",
        "plt.ylabel('accuracy')\n",
        "plt.xticks(ticks = range(len(min_samples_split_list )),labels=min_samples_split_list)\n",
        "plt.plot(accuracy_list_train)\n",
        "plt.plot(accuracy_list_val)\n",
        "plt.legend(['Train','Test'])"
      ],
      "metadata": {
        "colab": {
          "base_uri": "https://localhost:8080/",
          "height": 489
        },
        "id": "_kc_074dF4fP",
        "outputId": "80c4a6de-5ae4-42ef-b266-d087ca6f2252"
      },
      "execution_count": null,
      "outputs": [
        {
          "output_type": "execute_result",
          "data": {
            "text/plain": [
              "<matplotlib.legend.Legend at 0x7b438c749b70>"
            ]
          },
          "metadata": {},
          "execution_count": 22
        },
        {
          "output_type": "display_data",
          "data": {
            "text/plain": [
              "<Figure size 640x480 with 1 Axes>"
            ],
            "image/png": "[encoded data removed]"
          },
          "metadata": {}
        }
      ]
    },
    {
      "cell_type": "markdown",
      "source": [
        "From the graph,the best value for  min_samples_split = 30"
      ],
      "metadata": {
        "id": "bNrBPJA3pDlf"
      }
    },
    {
      "cell_type": "markdown",
      "source": [
        "Iterating through all values in the Max depth list to evaluate our model's performance on both train and test data, with the primary aim of preventing overfitting by identifying the most suitable parameter value for the maximum depth of decision tree nodes."
      ],
      "metadata": {
        "id": "bDQ7S9che8Qe"
      }
    },
    {
      "cell_type": "code",
      "source": [
        "accuracy_list_train = []\n",
        "accuracy_list_val = []\n",
        "for max_depth in max_depth_list:\n",
        "    # You can fit the model at the same time you define it, because the fit function returns the fitted estimator.\n",
        "    model = DecisionTreeClassifier(max_depth = max_depth,\n",
        "                                   random_state = 42).fit(x_train,y_train)\n",
        "    predictions_train = model.predict(x_train) ## The predicted values for the train dataset\n",
        "\n",
        "    predictions_val = model.predict(x_test) ## The predicted values for the test dataset\n",
        "\n",
        "    accuracy_train = accuracy_score(predictions_train,y_train)\n",
        "    accuracy_val = accuracy_score(predictions_val,y_test)\n",
        "    accuracy_list_train.append(accuracy_train)\n",
        "    accuracy_list_val.append(accuracy_val)\n",
        "\n",
        "plt.title('Train x Validation metrics')\n",
        "plt.xlabel('Max Depth')\n",
        "plt.ylabel('accuracy')\n",
        "plt.xticks(ticks = range(len(max_depth_list )),labels=max_depth_list)\n",
        "plt.plot(accuracy_list_train)\n",
        "plt.plot(accuracy_list_val)\n",
        "plt.legend(['Train','Test'])"
      ],
      "metadata": {
        "colab": {
          "base_uri": "https://localhost:8080/",
          "height": 489
        },
        "id": "Wd_C6L8rF7gz",
        "outputId": "623975e6-2318-4f29-d189-a4d32508614c"
      },
      "execution_count": null,
      "outputs": [
        {
          "output_type": "execute_result",
          "data": {
            "text/plain": [
              "<matplotlib.legend.Legend at 0x7b438e78d9f0>"
            ]
          },
          "metadata": {},
          "execution_count": 23
        },
        {
          "output_type": "display_data",
          "data": {
            "text/plain": [
              "<Figure size 640x480 with 1 Axes>"
            ],
            "image/png": "[encoded data removed]"
          },
          "metadata": {}
        }
      ]
    },
    {
      "cell_type": "markdown",
      "source": [
        "From the graph,the best value for  max_depth = 25"
      ],
      "metadata": {
        "id": "-Kc3vfbspBh_"
      }
    },
    {
      "cell_type": "markdown",
      "source": [
        " Creating a DecisionTreeClassifier instance with :\n",
        "\n",
        "* **Maximum depth =  25.**\n",
        "* **Minnimum sample split = 30.**"
      ],
      "metadata": {
        "id": "GAwrKqdjfGmh"
      }
    },
    {
      "cell_type": "code",
      "source": [
        "decision_tree_model = DecisionTreeClassifier(min_samples_split = 30,\n",
        "                                             max_depth =25,\n",
        "                                             random_state = 42).fit(x_train,y_train)"
      ],
      "metadata": {
        "id": "3ymLxpDUF-IA"
      },
      "execution_count": null,
      "outputs": []
    },
    {
      "cell_type": "markdown",
      "source": [
        "Generating predictions on both the training and test datasets for Decision Tree model evaluation."
      ],
      "metadata": {
        "id": "zz01iwnXfQsY"
      }
    },
    {
      "cell_type": "code",
      "source": [
        "y_pred=decision_tree_model.predict(x_test)\n",
        "y_pred_train=decision_tree_model.predict(x_train)"
      ],
      "metadata": {
        "id": "h-j3c7ExGDrr"
      },
      "execution_count": null,
      "outputs": []
    },
    {
      "cell_type": "markdown",
      "source": [
        "Examining the model's accuracy by evaluating its performance on both the training and testing datasets."
      ],
      "metadata": {
        "id": "beCd3stnfR1C"
      }
    },
    {
      "cell_type": "code",
      "source": [
        "print(f\"Metrics train:\\n\\tAccuracy score: {accuracy_score(y_pred_train,y_train)*100:.2f}\")\n",
        "print(f\"Metrics Test:\\n\\tAccuracy score: {accuracy_score(y_pred,y_test)*100:.2f}\")"
      ],
      "metadata": {
        "colab": {
          "base_uri": "https://localhost:8080/"
        },
        "id": "L0QRFI8CGdpB",
        "outputId": "47508324-64ae-4dc5-81cf-06adef5e7a7a"
      },
      "execution_count": null,
      "outputs": [
        {
          "output_type": "stream",
          "name": "stdout",
          "text": [
            "Metrics train:\n",
            "\tAccuracy score: 72.97\n",
            "Metrics Test:\n",
            "\tAccuracy score: 48.64\n"
          ]
        }
      ]
    },
    {
      "cell_type": "markdown",
      "source": [
        "* The Decision Tree model displays a significantly lower performance at 48%, even after optimizing its parameters, in contrast to logistic regression, which performs better."
      ],
      "metadata": {
        "id": "TJPgVeLhfWD3"
      }
    },
    {
      "cell_type": "markdown",
      "source": [
        "Visualizing the Decsison Tree confusion matrix to further evaluate the model's performance."
      ],
      "metadata": {
        "id": "DstAEeJEf7ik"
      }
    },
    {
      "cell_type": "code",
      "source": [
        "cm = confusion_matrix(y_test, y_pred)\n",
        "\n",
        "plt.figure(figsize=(4, 4))\n",
        "sns.heatmap(cm, annot=True, fmt='d', cmap='Blues', cbar=False, xticklabels=['0', '1'], yticklabels=['0', '1'])\n",
        "\n",
        "plt.title('Confusion Matrix')\n",
        "plt.xlabel('Actual Labels')\n",
        "plt.ylabel('Predicted Labels')\n",
        "\n",
        "plt.show()"
      ],
      "metadata": {
        "colab": {
          "base_uri": "https://localhost:8080/",
          "height": 410
        },
        "id": "dB1LuliCGfYl",
        "outputId": "888513c5-c1eb-46bc-d99b-06d7b71f07d1"
      },
      "execution_count": null,
      "outputs": [
        {
          "output_type": "display_data",
          "data": {
            "text/plain": [
              "<Figure size 400x400 with 1 Axes>"
            ],
            "image/png": "[encoded data removed]"
          },
          "metadata": {}
        }
      ]
    },
    {
      "cell_type": "markdown",
      "source": [
        "Based on this Conusion matrix Evaluation :\n",
        "\n",
        "* **150** instances were correctly predicted as class 0 **```(True Negatives)```**.\n",
        "\n",
        "* **172** instances were correctly predicted as class 1 **```(True Positives)```**.\n",
        "\n",
        "* **164** instances were predicted as class 1 but were actually class 0 **```(False Positives)```**.\n",
        "* **176** instances were predicted as class 0 but were actually class 1 **```(False Negatives)```**.\n",
        "\n",
        "\n",
        "The confusion matrix of the decision tree model indicates inefficiency as the model mispredicts approximately half of the values for both classes."
      ],
      "metadata": {
        "id": "jxVLDBTegHSl"
      }
    },
    {
      "cell_type": "code",
      "source": [
        "print(\"\\nClassification Report for Test Set:\")\n",
        "print(classification_report(y_test, y_pred))"
      ],
      "metadata": {
        "colab": {
          "base_uri": "https://localhost:8080/"
        },
        "id": "XdcBI4rQG9-J",
        "outputId": "6c815890-d138-4a26-be67-8f5e185759bd"
      },
      "execution_count": null,
      "outputs": [
        {
          "output_type": "stream",
          "name": "stdout",
          "text": [
            "\n",
            "Classification Report for Test Set:\n",
            "              precision    recall  f1-score   support\n",
            "\n",
            "           0       0.46      0.48      0.47       314\n",
            "           1       0.51      0.49      0.50       348\n",
            "\n",
            "    accuracy                           0.49       662\n",
            "   macro avg       0.49      0.49      0.49       662\n",
            "weighted avg       0.49      0.49      0.49       662\n",
            "\n"
          ]
        }
      ]
    },
    {
      "cell_type": "markdown",
      "source": [
        "\n",
        "The Decision Tree model shows inefficiency as it accurately predicts only about half of both classes while mispredicting the other half. Moreover, its accuracy, F1-score, and precision metrics are notably low, indicating overall poor performance."
      ],
      "metadata": {
        "id": "j9IL1cmYoBZT"
      }
    },
    {
      "cell_type": "markdown",
      "source": [
        "### Random Forest"
      ],
      "metadata": {
        "id": "ZjtrxgoCHNSU"
      }
    },
    {
      "cell_type": "markdown",
      "source": [
        "Exploring the implementation of Random Forest as a potential solution for achieving improved performance and accuracy in predictive modeling."
      ],
      "metadata": {
        "id": "YNTHSVC6hj4v"
      }
    },
    {
      "cell_type": "code",
      "source": [
        "from sklearn.ensemble import RandomForestClassifier"
      ],
      "metadata": {
        "id": "G58std6HHXPt"
      },
      "execution_count": null,
      "outputs": []
    },
    {
      "cell_type": "markdown",
      "source": [
        "Iterating through all values in the Min samples split list to assess our model's performance on both train and test data, emphasizing the objective of preventing overfitting by finding an optimal parameter value for splitting nodes."
      ],
      "metadata": {
        "id": "NlQPsn5shePA"
      }
    },
    {
      "cell_type": "code",
      "source": [
        "accuracy_list_train = []\n",
        "accuracy_list_val = []\n",
        "for min_samples_split in min_samples_split_list:\n",
        "    # You can fit the model at the same time you define it, because the fit function returns the fitted estimator.\n",
        "    model = RandomForestClassifier(min_samples_split = min_samples_split,\n",
        "                                   random_state = 42).fit(x_train,y_train)\n",
        "    predictions_train = model.predict(x_train) ## The predicted values for the train dataset\n",
        "    predictions_val = model.predict(x_test) ## The predicted values for the test dataset\n",
        "    accuracy_train = accuracy_score(predictions_train,y_train)\n",
        "    accuracy_val = accuracy_score(predictions_val,y_test)\n",
        "    accuracy_list_train.append(accuracy_train)\n",
        "    accuracy_list_val.append(accuracy_val)\n",
        "\n",
        "plt.title('Train x Validation metrics')\n",
        "plt.xlabel('min_samples_split')\n",
        "plt.ylabel('accuracy')\n",
        "plt.xticks(ticks = range(len(min_samples_split_list )),labels=min_samples_split_list)\n",
        "plt.plot(accuracy_list_train)\n",
        "plt.plot(accuracy_list_val)\n",
        "plt.legend(['Train','Validation'])"
      ],
      "metadata": {
        "colab": {
          "base_uri": "https://localhost:8080/",
          "height": 489
        },
        "id": "8KaPW2BuHpuY",
        "outputId": "851948ed-46de-4ed4-8cae-cb01ff079687"
      },
      "execution_count": null,
      "outputs": [
        {
          "output_type": "execute_result",
          "data": {
            "text/plain": [
              "<matplotlib.legend.Legend at 0x7b438c243160>"
            ]
          },
          "metadata": {},
          "execution_count": 30
        },
        {
          "output_type": "display_data",
          "data": {
            "text/plain": [
              "<Figure size 640x480 with 1 Axes>"
            ],
            "image/png": "[encoded data removed]"
          },
          "metadata": {}
        }
      ]
    },
    {
      "cell_type": "markdown",
      "source": [
        "From the graph,the best value for  min_samples_split = 20"
      ],
      "metadata": {
        "id": "WVyTikzPoucv"
      }
    },
    {
      "cell_type": "markdown",
      "source": [
        "Iterating through all values in the Max depth list to evaluate our model's performance on both train and test data, with the primary aim of preventing overfitting by identifying the most suitable parameter value for the maximum depth of decision tree nodes."
      ],
      "metadata": {
        "id": "Ki1XmIlsh7cx"
      }
    },
    {
      "cell_type": "code",
      "source": [
        "accuracy_list_train = []\n",
        "accuracy_list_val = []\n",
        "for max_depth in max_depth_list:\n",
        "    # You can fit the model at the same time you define it, because the fit function returns the fitted estimator.\n",
        "    model = RandomForestClassifier(max_depth = max_depth,\n",
        "                                   random_state = 42).fit(x_train,y_train)\n",
        "    predictions_train = model.predict(x_train) ## The predicted values for the train dataset\n",
        "    predictions_val = model.predict(x_test) ## The predicted values for the test dataset\n",
        "    accuracy_train = accuracy_score(predictions_train,y_train)\n",
        "    accuracy_val = accuracy_score(predictions_val,y_test)\n",
        "    accuracy_list_train.append(accuracy_train)\n",
        "    accuracy_list_val.append(accuracy_val)\n",
        "\n",
        "plt.title('Train x Validation metrics')\n",
        "plt.xlabel('max_depth')\n",
        "plt.ylabel('accuracy')\n",
        "plt.xticks(ticks = range(len(max_depth_list )),labels=max_depth_list)\n",
        "plt.plot(accuracy_list_train)\n",
        "plt.plot(accuracy_list_val)\n",
        "plt.legend(['Train','Validation'])"
      ],
      "metadata": {
        "colab": {
          "base_uri": "https://localhost:8080/",
          "height": 489
        },
        "id": "GBdgx_g2IIvB",
        "outputId": "84f7dc45-7fec-44a2-e5be-0327ce8eb9ec"
      },
      "execution_count": null,
      "outputs": [
        {
          "output_type": "execute_result",
          "data": {
            "text/plain": [
              "<matplotlib.legend.Legend at 0x7b438c10d5d0>"
            ]
          },
          "metadata": {},
          "execution_count": 31
        },
        {
          "output_type": "display_data",
          "data": {
            "text/plain": [
              "<Figure size 640x480 with 1 Axes>"
            ],
            "image/png": "[encoded data removed]"
          },
          "metadata": {}
        }
      ]
    },
    {
      "cell_type": "markdown",
      "source": [
        "From the graph,the best value for  max_depth = 10"
      ],
      "metadata": {
        "id": "XUeg9BCOo0iO"
      }
    },
    {
      "cell_type": "markdown",
      "source": [
        "Iterating through the n_estimators (Trees) list to assess the model's performance on both training and testing datasets, with the key objective of mitigating overfitting and improving the model's ability to generalize effectively."
      ],
      "metadata": {
        "id": "LYn3r1ljiCqu"
      }
    },
    {
      "cell_type": "code",
      "source": [
        "n_estimators_list = [10,50,100,200,250,500,700,800,1000]\n",
        "accuracy_list_train = []\n",
        "accuracy_list_val = []\n",
        "for n_estimators in n_estimators_list:\n",
        "    # You can fit the model at the same time you define it, because the fit function returns the fitted estimator.\n",
        "    model = RandomForestClassifier(n_estimators = n_estimators,\n",
        "                                   random_state = 42).fit(x_train,y_train)\n",
        "    predictions_train = model.predict(x_train) ## The predicted values for the train dataset\n",
        "    predictions_val = model.predict(x_test) ## The predicted values for the test dataset\n",
        "    accuracy_train = accuracy_score(predictions_train,y_train)\n",
        "    accuracy_val = accuracy_score(predictions_val,y_test)\n",
        "    accuracy_list_train.append(accuracy_train)\n",
        "    accuracy_list_val.append(accuracy_val)\n",
        "\n",
        "plt.title('Train x Validation metrics')\n",
        "plt.xlabel('n_estimators')\n",
        "plt.ylabel('accuracy')\n",
        "plt.xticks(ticks = range(len(n_estimators_list )),labels=n_estimators_list)\n",
        "plt.plot(accuracy_list_train)\n",
        "plt.plot(accuracy_list_val)\n",
        "plt.legend(['Train','Validation'])"
      ],
      "metadata": {
        "colab": {
          "base_uri": "https://localhost:8080/",
          "height": 489
        },
        "id": "BmQz6b5WIVIo",
        "outputId": "fe046d99-8b8c-40ee-e9f9-6eec90f3eb8e"
      },
      "execution_count": null,
      "outputs": [
        {
          "output_type": "execute_result",
          "data": {
            "text/plain": [
              "<matplotlib.legend.Legend at 0x7b438c10c430>"
            ]
          },
          "metadata": {},
          "execution_count": 32
        },
        {
          "output_type": "display_data",
          "data": {
            "text/plain": [
              "<Figure size 640x480 with 1 Axes>"
            ],
            "image/png": "[encoded data removed]"
          },
          "metadata": {}
        }
      ]
    },
    {
      "cell_type": "markdown",
      "source": [
        "From the graph,the best value for  n_estimators = 100"
      ],
      "metadata": {
        "id": "sQLmtvYYo3Yw"
      }
    },
    {
      "cell_type": "markdown",
      "source": [
        "Training a Random Forest Classifier with :\n",
        "\n",
        "* **max_depth = 10.**\n",
        "* **min_samples_split = 20.**\n",
        "* **n_estimators = 100.**\n",
        "\n",
        "This values are achieved from analyzing the above graphs to ensure using the best parameter values."
      ],
      "metadata": {
        "id": "8qeQjUQGiNyf"
      }
    },
    {
      "cell_type": "code",
      "source": [
        "random_forest_model = RandomForestClassifier(n_estimators = 100,\n",
        "                                             max_depth = 10,\n",
        "                                             min_samples_split = 20).fit(x_train,y_train)"
      ],
      "metadata": {
        "id": "7p8KbFgCIYNS"
      },
      "execution_count": null,
      "outputs": []
    },
    {
      "cell_type": "markdown",
      "source": [
        "Generating predictions on both the training and test datasets for Random Forest model evaluation."
      ],
      "metadata": {
        "id": "hk8yTj11iY8W"
      }
    },
    {
      "cell_type": "code",
      "source": [
        "y_pred=random_forest_model.predict(x_test)\n",
        "y_pred_train=random_forest_model.predict(x_train)"
      ],
      "metadata": {
        "id": "frr4sY_YIaiP"
      },
      "execution_count": null,
      "outputs": []
    },
    {
      "cell_type": "markdown",
      "source": [
        "\n",
        "Evaluating the accuracy of predictions made on both the training and testing datasets."
      ],
      "metadata": {
        "id": "SkMPrfLricBg"
      }
    },
    {
      "cell_type": "code",
      "source": [
        "print(f\"Metrics train:\\n\\tAccuracy score: {accuracy_score(y_pred_train,y_train)*100:.2f}\")\n",
        "print(f\"Metrics Test:\\n\\tAccuracy score: {accuracy_score(y_pred,y_test)*100:.2f}\")"
      ],
      "metadata": {
        "colab": {
          "base_uri": "https://localhost:8080/"
        },
        "id": "jxonBqgvJDgN",
        "outputId": "ad0103a7-de5d-498c-b464-a8d8334c78a8"
      },
      "execution_count": null,
      "outputs": [
        {
          "output_type": "stream",
          "name": "stdout",
          "text": [
            "Metrics train:\n",
            "\tAccuracy score: 77.95\n",
            "Metrics Test:\n",
            "\tAccuracy score: 51.21\n"
          ]
        }
      ]
    },
    {
      "cell_type": "markdown",
      "source": [
        "* Regarding accuracy scores, the Random Forest model shows a slight improvement compared to the Decision Tree model. However, when compared to Logistic Regression, it still exhibits inefficiency. Additionally, there's a minor indication of overfitting due to the considerable gap observed between the training and testing accuracy.\n",
        "\n",
        "\n",
        "\n",
        "\n"
      ],
      "metadata": {
        "id": "55M61oPnijid"
      }
    },
    {
      "cell_type": "markdown",
      "source": [
        "Visualizing the Random Forest confusion matrix to further evaluate the model's performance."
      ],
      "metadata": {
        "id": "Y8A4tlyapbOb"
      }
    },
    {
      "cell_type": "code",
      "source": [
        "cm = confusion_matrix(y_test, y_pred)\n",
        "\n",
        "plt.figure(figsize=(4, 4))\n",
        "sns.heatmap(cm, annot=True, fmt='d', cmap='Blues', cbar=False, xticklabels=['0', '1'], yticklabels=['0', '1'])\n",
        "\n",
        "plt.title('Confusion Matrix')\n",
        "plt.xlabel('Actual Labels')\n",
        "plt.ylabel('Predicted Labels')\n",
        "\n",
        "plt.show()"
      ],
      "metadata": {
        "colab": {
          "base_uri": "https://localhost:8080/",
          "height": 410
        },
        "id": "78j0ykEHJKqN",
        "outputId": "70b01a8c-1f78-43c3-daf1-965d245322f9"
      },
      "execution_count": null,
      "outputs": [
        {
          "output_type": "display_data",
          "data": {
            "text/plain": [
              "<Figure size 400x400 with 1 Axes>"
            ],
            "image/png": "[encoded data removed]"
          },
          "metadata": {}
        }
      ]
    },
    {
      "cell_type": "markdown",
      "source": [
        "Based on this Conusion matrix Evaluation :\n",
        "\n",
        "* **129** instances were correctly predicted as class 0 **```(True Negatives)```**.\n",
        "\n",
        "* **210** instances were correctly predicted as class 1 **```(True Positives)```**.\n",
        "\n",
        "* **185** instances were predicted as class 1 but were actually class 0 **```(False Positives)```**.\n",
        "* **138** instances were predicted as class 0 but were actually class 1 **```(False Negatives)```**.\n",
        "\n",
        "\n",
        "The confusion matrix of the Random Forest model reveals considerable mispredictions in both classes, indicating inefficiency. However, these mispredictions are slightly better compared to those of the Decision Trees."
      ],
      "metadata": {
        "id": "PtrKycRCpoYB"
      }
    },
    {
      "cell_type": "code",
      "source": [
        "print(\"\\nClassification Report for Test Set:\")\n",
        "print(classification_report(y_test, y_pred))"
      ],
      "metadata": {
        "colab": {
          "base_uri": "https://localhost:8080/"
        },
        "id": "4fYZ5sxGJNk8",
        "outputId": "4f2a5b6f-70ad-4287-e7c7-4b567024c31a"
      },
      "execution_count": null,
      "outputs": [
        {
          "output_type": "stream",
          "name": "stdout",
          "text": [
            "\n",
            "Classification Report for Test Set:\n",
            "              precision    recall  f1-score   support\n",
            "\n",
            "           0       0.48      0.41      0.44       314\n",
            "           1       0.53      0.60      0.57       348\n",
            "\n",
            "    accuracy                           0.51       662\n",
            "   macro avg       0.51      0.51      0.50       662\n",
            "weighted avg       0.51      0.51      0.51       662\n",
            "\n"
          ]
        }
      ]
    },
    {
      "cell_type": "markdown",
      "source": [
        "\n",
        "The classification report of the Random Forest model highlights significantly lower metrics for Class 0, showing notably low precision, recall, and F1-score compared to other models. For Class 1, the metrics are comparable to other models, albeit slightly lower.\n",
        "\n"
      ],
      "metadata": {
        "id": "9ynO6_LYqu4B"
      }
    },
    {
      "cell_type": "markdown",
      "source": [
        "\n",
        "* These metrics and findings suggest that both the Decision Tree and Random Forest models did not exhibit any improvement in predictive performance compared to Logistic Regression. Instead, they showcase poor performance on the given dataset."
      ],
      "metadata": {
        "id": "l9h2JMZfrNjs"
      }
    },
    {
      "cell_type": "markdown",
      "source": [
        "### 3.4) XGBoost\n"
      ],
      "metadata": {
        "id": "X_eXjGSvJhoZ"
      }
    },
    {
      "cell_type": "markdown",
      "source": [
        "\n",
        "Attempting to employ the XGBoost Classifier aiming for an enhancement in model performance."
      ],
      "metadata": {
        "id": "Wvww0smXrlGY"
      }
    },
    {
      "cell_type": "code",
      "source": [
        "from xgboost import XGBClassifier\n",
        "from sklearn.model_selection import RandomizedSearchCV"
      ],
      "metadata": {
        "id": "pd4ZgjI8JSwW"
      },
      "execution_count": null,
      "outputs": []
    },
    {
      "cell_type": "markdown",
      "source": [
        "\n",
        "Employing **RandomSearch** to find the most suitable parameters for the XGBoost model, aiming to enhance accuracy by systematically exploring various parameter combinations."
      ],
      "metadata": {
        "id": "vWd4rd-rr98I"
      }
    },
    {
      "cell_type": "code",
      "source": [
        "param_grid = {\n",
        "    'n_estimators': [100, 300, 500, 200,700,800],\n",
        "    'learning_rate': [0.1, 0.2, 0.3,0.01,0.02,0.5,1],\n",
        "    'max_depth': [3, 5, 7, 20, 100, 200, 300,None,500],\n",
        "    'gamma':[1,2,3,4,5,6,7,8,9,10]\n",
        "}\n",
        "\n",
        "\n",
        "random_search = RandomizedSearchCV(\n",
        "    estimator=XGBClassifier(early_stopping_rounds=20),\n",
        "    param_distributions=param_grid,\n",
        "    n_iter=100,  # Number of parameter settings that are sampled\n",
        "    cv=5,  # Number of cross-validation folds\n",
        "    n_jobs=4,  # Use all available cores\n",
        "    verbose=2,\n",
        "    random_state=42 # Set random state for reproducibility\n",
        ")\n",
        "\n",
        "# Perform random search\n",
        "random_search.fit(x_train, y_train, eval_set=[(x_test, y_test)], eval_metric=\"logloss\")\n",
        "\n",
        "# Get the best parameters and the best score\n",
        "best_params = random_search.best_params_\n",
        "best_score = random_search.best_score_\n",
        "\n"
      ],
      "metadata": {
        "colab": {
          "base_uri": "https://localhost:8080/"
        },
        "id": "-HkOtYX2JksY",
        "outputId": "185b0935-f04a-4cbb-88eb-7118c642ed7b"
      },
      "execution_count": null,
      "outputs": [
        {
          "output_type": "stream",
          "name": "stdout",
          "text": [
            "Fitting 5 folds for each of 100 candidates, totalling 500 fits\n",
            "[0]\tvalidation_0-logloss:0.69233\n",
            "[1]\tvalidation_0-logloss:0.69245\n",
            "[2]\tvalidation_0-logloss:0.69270\n",
            "[3]\tvalidation_0-logloss:0.69261\n",
            "[4]\tvalidation_0-logloss:0.69220\n",
            "[5]\tvalidation_0-logloss:0.69276\n",
            "[6]\tvalidation_0-logloss:0.69339\n",
            "[7]\tvalidation_0-logloss:0.69326\n",
            "[8]\tvalidation_0-logloss:0.69326\n",
            "[9]\tvalidation_0-logloss:0.69326\n",
            "[10]\tvalidation_0-logloss:0.69326\n",
            "[11]\tvalidation_0-logloss:0.69326\n",
            "[12]\tvalidation_0-logloss:0.69326\n",
            "[13]\tvalidation_0-logloss:0.69326\n",
            "[14]\tvalidation_0-logloss:0.69326\n",
            "[15]\tvalidation_0-logloss:0.69326\n",
            "[16]\tvalidation_0-logloss:0.69326\n",
            "[17]\tvalidation_0-logloss:0.69326\n",
            "[18]\tvalidation_0-logloss:0.69326\n",
            "[19]\tvalidation_0-logloss:0.69326\n",
            "[20]\tvalidation_0-logloss:0.69326\n",
            "[21]\tvalidation_0-logloss:0.69326\n",
            "[22]\tvalidation_0-logloss:0.69326\n",
            "[23]\tvalidation_0-logloss:0.69326\n"
          ]
        }
      ]
    },
    {
      "cell_type": "code",
      "source": [
        "best_params"
      ],
      "metadata": {
        "colab": {
          "base_uri": "https://localhost:8080/"
        },
        "id": "gdoDoOqAJ820",
        "outputId": "6713b13f-187a-4b88-9dba-b2e5c5389cec"
      },
      "execution_count": null,
      "outputs": [
        {
          "output_type": "execute_result",
          "data": {
            "text/plain": [
              "{'n_estimators': 100, 'max_depth': 3, 'learning_rate': 0.2, 'gamma': 2}"
            ]
          },
          "metadata": {},
          "execution_count": 40
        }
      ]
    },
    {
      "cell_type": "markdown",
      "source": [
        "Based on the **RandomSearch**, the selected values for the hyperparameters of XGBoost model are ***{'n_estimators': 100, 'max_depth': 3, 'learning_rate': 0.2, 'gamma': 2}***\n",
        "\n",
        "\n",
        "Creating an xgbclassifier model instance using the identified hyperparameter values from RandomSearch and training the model accordingly."
      ],
      "metadata": {
        "id": "KJ-44o6ksQtE"
      }
    },
    {
      "cell_type": "code",
      "source": [
        "xgb_model = XGBClassifier(n_estimators = 100,max_depth=3, learning_rate = 0.2, random_state = 42,n_jobs=5,gamma=2)\n",
        "xgb_model.fit(x_train,y_train, eval_set = [(x_test,y_test)], early_stopping_rounds = 20)"
      ],
      "metadata": {
        "colab": {
          "base_uri": "https://localhost:8080/",
          "height": 664
        },
        "id": "Nfyz_eDmOa7G",
        "outputId": "0a68b2c7-b612-4ac3-f66c-a9b633108c3b"
      },
      "execution_count": null,
      "outputs": [
        {
          "output_type": "stream",
          "name": "stdout",
          "text": [
            "[0]\tvalidation_0-logloss:0.69233\n",
            "[1]\tvalidation_0-logloss:0.69245\n",
            "[2]\tvalidation_0-logloss:0.69270\n",
            "[3]\tvalidation_0-logloss:0.69261\n",
            "[4]\tvalidation_0-logloss:0.69220\n",
            "[5]\tvalidation_0-logloss:0.69276\n",
            "[6]\tvalidation_0-logloss:0.69339\n",
            "[7]\tvalidation_0-logloss:0.69326\n",
            "[8]\tvalidation_0-logloss:0.69326\n",
            "[9]\tvalidation_0-logloss:0.69326\n",
            "[10]\tvalidation_0-logloss:0.69326\n",
            "[11]\tvalidation_0-logloss:0.69326\n",
            "[12]\tvalidation_0-logloss:0.69326\n",
            "[13]\tvalidation_0-logloss:0.69326\n",
            "[14]\tvalidation_0-logloss:0.69326\n",
            "[15]\tvalidation_0-logloss:0.69326\n",
            "[16]\tvalidation_0-logloss:0.69326\n",
            "[17]\tvalidation_0-logloss:0.69326\n",
            "[18]\tvalidation_0-logloss:0.69326\n",
            "[19]\tvalidation_0-logloss:0.69326\n",
            "[20]\tvalidation_0-logloss:0.69326\n",
            "[21]\tvalidation_0-logloss:0.69326\n",
            "[22]\tvalidation_0-logloss:0.69326\n",
            "[23]\tvalidation_0-logloss:0.69326\n"
          ]
        },
        {
          "output_type": "execute_result",
          "data": {
            "text/plain": [
              "XGBClassifier(base_score=None, booster=None, callbacks=None,\n",
              "              colsample_bylevel=None, colsample_bynode=None,\n",
              "              colsample_bytree=None, device=None, early_stopping_rounds=None,\n",
              "              enable_categorical=False, eval_metric=None, feature_types=None,\n",
              "              gamma=2, grow_policy=None, importance_type=None,\n",
              "              interaction_constraints=None, learning_rate=0.2, max_bin=None,\n",
              "              max_cat_threshold=None, max_cat_to_onehot=None,\n",
              "              max_delta_step=None, max_depth=3, max_leaves=None,\n",
              "              min_child_weight=None, missing=nan, monotone_constraints=None,\n",
              "              multi_strategy=None, n_estimators=100, n_jobs=5,\n",
              "              num_parallel_tree=None, random_state=42, ...)"
            ],
            "text/html": [
              "<style>#sk-container-id-2 {color: black;background-color: white;}#sk-container-id-2 pre{padding: 0;}#sk-container-id-2 div.sk-toggleable {background-color: white;}#sk-container-id-2 label.sk-toggleable__label {cursor: pointer;display: block;width: 100%;margin-bottom: 0;padding: 0.3em;box-sizing: border-box;text-align: center;}#sk-container-id-2 label.sk-toggleable__label-arrow:before {content: \"▸\";float: left;margin-right: 0.25em;color: #696969;}#sk-container-id-2 label.sk-toggleable__label-arrow:hover:before {color: black;}#sk-container-id-2 div.sk-estimator:hover label.sk-toggleable__label-arrow:before {color: black;}#sk-container-id-2 div.sk-toggleable__content {max-height: 0;max-width: 0;overflow: hidden;text-align: left;background-color: #f0f8ff;}#sk-container-id-2 div.sk-toggleable__content pre {margin: 0.2em;color: black;border-radius: 0.25em;background-color: #f0f8ff;}#sk-container-id-2 input.sk-toggleable__control:checked~div.sk-toggleable__content {max-height: 200px;max-width: 100%;overflow: auto;}#sk-container-id-2 input.sk-toggleable__control:checked~label.sk-toggleable__label-arrow:before {content: \"▾\";}#sk-container-id-2 div.sk-estimator input.sk-toggleable__control:checked~label.sk-toggleable__label {background-color: #d4ebff;}#sk-container-id-2 div.sk-label input.sk-toggleable__control:checked~label.sk-toggleable__label {background-color: #d4ebff;}#sk-container-id-2 input.sk-hidden--visually {border: 0;clip: rect(1px 1px 1px 1px);clip: rect(1px, 1px, 1px, 1px);height: 1px;margin: -1px;overflow: hidden;padding: 0;position: absolute;width: 1px;}#sk-container-id-2 div.sk-estimator {font-family: monospace;background-color: #f0f8ff;border: 1px dotted black;border-radius: 0.25em;box-sizing: border-box;margin-bottom: 0.5em;}#sk-container-id-2 div.sk-estimator:hover {background-color: #d4ebff;}#sk-container-id-2 div.sk-parallel-item::after {content: \"\";width: 100%;border-bottom: 1px solid gray;flex-grow: 1;}#sk-container-id-2 div.sk-label:hover label.sk-toggleable__label {background-color: #d4ebff;}#sk-container-id-2 div.sk-serial::before {content: \"\";position: absolute;border-left: 1px solid gray;box-sizing: border-box;top: 0;bottom: 0;left: 50%;z-index: 0;}#sk-container-id-2 div.sk-serial {display: flex;flex-direction: column;align-items: center;background-color: white;padding-right: 0.2em;padding-left: 0.2em;position: relative;}#sk-container-id-2 div.sk-item {position: relative;z-index: 1;}#sk-container-id-2 div.sk-parallel {display: flex;align-items: stretch;justify-content: center;background-color: white;position: relative;}#sk-container-id-2 div.sk-item::before, #sk-container-id-2 div.sk-parallel-item::before {content: \"\";position: absolute;border-left: 1px solid gray;box-sizing: border-box;top: 0;bottom: 0;left: 50%;z-index: -1;}#sk-container-id-2 div.sk-parallel-item {display: flex;flex-direction: column;z-index: 1;position: relative;background-color: white;}#sk-container-id-2 div.sk-parallel-item:first-child::after {align-self: flex-end;width: 50%;}#sk-container-id-2 div.sk-parallel-item:last-child::after {align-self: flex-start;width: 50%;}#sk-container-id-2 div.sk-parallel-item:only-child::after {width: 0;}#sk-container-id-2 div.sk-dashed-wrapped {border: 1px dashed gray;margin: 0 0.4em 0.5em 0.4em;box-sizing: border-box;padding-bottom: 0.4em;background-color: white;}#sk-container-id-2 div.sk-label label {font-family: monospace;font-weight: bold;display: inline-block;line-height: 1.2em;}#sk-container-id-2 div.sk-label-container {text-align: center;}#sk-container-id-2 div.sk-container {/* jupyter's `normalize.less` sets `[hidden] { display: none; }` but bootstrap.min.css set `[hidden] { display: none !important; }` so we also need the `!important` here to be able to override the default hidden behavior on the sphinx rendered scikit-learn.org. See: https://github.com/scikit-learn/scikit-learn/issues/21755 */display: inline-block !important;position: relative;}#sk-container-id-2 div.sk-text-repr-fallback {display: none;}</style><div id=\"sk-container-id-2\" class=\"sk-top-container\"><div class=\"sk-text-repr-fallback\"><pre>XGBClassifier(base_score=None, booster=None, callbacks=None,\n",
              "              colsample_bylevel=None, colsample_bynode=None,\n",
              "              colsample_bytree=None, device=None, early_stopping_rounds=None,\n",
              "              enable_categorical=False, eval_metric=None, feature_types=None,\n",
              "              gamma=2, grow_policy=None, importance_type=None,\n",
              "              interaction_constraints=None, learning_rate=0.2, max_bin=None,\n",
              "              max_cat_threshold=None, max_cat_to_onehot=None,\n",
              "              max_delta_step=None, max_depth=3, max_leaves=None,\n",
              "              min_child_weight=None, missing=nan, monotone_constraints=None,\n",
              "              multi_strategy=None, n_estimators=100, n_jobs=5,\n",
              "              num_parallel_tree=None, random_state=42, ...)</pre><b>In a Jupyter environment, please rerun this cell to show the HTML representation or trust the notebook. <br />On GitHub, the HTML representation is unable to render, please try loading this page with nbviewer.org.</b></div><div class=\"sk-container\" hidden><div class=\"sk-item\"><div class=\"sk-estimator sk-toggleable\"><input class=\"sk-toggleable__control sk-hidden--visually\" id=\"sk-estimator-id-2\" type=\"checkbox\" checked><label for=\"sk-estimator-id-2\" class=\"sk-toggleable__label sk-toggleable__label-arrow\">XGBClassifier</label><div class=\"sk-toggleable__content\"><pre>XGBClassifier(base_score=None, booster=None, callbacks=None,\n",
              "              colsample_bylevel=None, colsample_bynode=None,\n",
              "              colsample_bytree=None, device=None, early_stopping_rounds=None,\n",
              "              enable_categorical=False, eval_metric=None, feature_types=None,\n",
              "              gamma=2, grow_policy=None, importance_type=None,\n",
              "              interaction_constraints=None, learning_rate=0.2, max_bin=None,\n",
              "              max_cat_threshold=None, max_cat_to_onehot=None,\n",
              "              max_delta_step=None, max_depth=3, max_leaves=None,\n",
              "              min_child_weight=None, missing=nan, monotone_constraints=None,\n",
              "              multi_strategy=None, n_estimators=100, n_jobs=5,\n",
              "              num_parallel_tree=None, random_state=42, ...)</pre></div></div></div></div></div>"
            ]
          },
          "metadata": {},
          "execution_count": 41
        }
      ]
    },
    {
      "cell_type": "code",
      "source": [
        "xgb_model.best_iteration"
      ],
      "metadata": {
        "colab": {
          "base_uri": "https://localhost:8080/"
        },
        "id": "iPW60aJ2OeUX",
        "outputId": "7c8e5637-c861-4e4a-abf4-375eea06e335"
      },
      "execution_count": null,
      "outputs": [
        {
          "output_type": "execute_result",
          "data": {
            "text/plain": [
              "4"
            ]
          },
          "metadata": {},
          "execution_count": 42
        }
      ]
    },
    {
      "cell_type": "markdown",
      "source": [
        "Generating predictions on both the training and test datasets for XGBoost Classifier model evaluation."
      ],
      "metadata": {
        "id": "CCMZDiFns-m8"
      }
    },
    {
      "cell_type": "code",
      "source": [
        "y_pred=xgb_model.predict(x_test)\n",
        "y_pred_train=xgb_model.predict(x_train)"
      ],
      "metadata": {
        "id": "Zn9BF9PVOg_d"
      },
      "execution_count": null,
      "outputs": []
    },
    {
      "cell_type": "markdown",
      "source": [
        "\n",
        "Evaluating the accuracy of predictions made on both the training and testing datasets."
      ],
      "metadata": {
        "id": "ehozBc6KtIWU"
      }
    },
    {
      "cell_type": "code",
      "source": [
        "print(f\"Metrics train:\\n\\tAccuracy score: {accuracy_score(y_pred_train,y_train)*100:.2f}\")\n",
        "print(f\"Metrics Test:\\n\\tAccuracy score: {accuracy_score(y_pred,y_test)*100:.2f}\")"
      ],
      "metadata": {
        "colab": {
          "base_uri": "https://localhost:8080/"
        },
        "id": "0vHKlH2bOwGY",
        "outputId": "14e59bb6-4c5d-4e8f-c595-445cce336cd1"
      },
      "execution_count": null,
      "outputs": [
        {
          "output_type": "stream",
          "name": "stdout",
          "text": [
            "Metrics train:\n",
            "\tAccuracy score: 53.08\n",
            "Metrics Test:\n",
            "\tAccuracy score: 53.32\n"
          ]
        }
      ]
    },
    {
      "cell_type": "markdown",
      "source": [
        "\n",
        "XGBoost performs better than Decision Tree and Random Forest models in accuracy. There's no overfitting, seen in the similar training and testing accuracy. However, XGBoost slightly lags behind the adjusted threshold Logistic Regression model in performance."
      ],
      "metadata": {
        "id": "pNMTLyeCtiDh"
      }
    },
    {
      "cell_type": "markdown",
      "source": [
        "Visualizing the XGBoost confusion matrix to further evaluate the model's performance."
      ],
      "metadata": {
        "id": "0CIvqB_stNP2"
      }
    },
    {
      "cell_type": "code",
      "source": [
        "cm = confusion_matrix(y_test, y_pred)\n",
        "\n",
        "plt.figure(figsize=(4, 4))\n",
        "sns.heatmap(cm, annot=True, fmt='d', cmap='Blues', cbar=False, xticklabels=['0', '1'], yticklabels=['0', '1'])\n",
        "\n",
        "plt.title('Confusion Matrix')\n",
        "plt.xlabel('Actual Labels')\n",
        "plt.ylabel('Predicted Labels')\n",
        "\n",
        "plt.show()"
      ],
      "metadata": {
        "colab": {
          "base_uri": "https://localhost:8080/",
          "height": 410
        },
        "id": "7pxgchBoO804",
        "outputId": "0d792573-5e25-43b4-b223-bd4ed64c7ee4"
      },
      "execution_count": null,
      "outputs": [
        {
          "output_type": "display_data",
          "data": {
            "text/plain": [
              "<Figure size 400x400 with 1 Axes>"
            ],
            "image/png": "[encoded data removed]"
          },
          "metadata": {}
        }
      ]
    },
    {
      "cell_type": "markdown",
      "source": [
        "Based on this Conusion matrix Evaluation :\n",
        "\n",
        "* **49** instances were correctly predicted as class 0 **```(True Negatives)```**.\n",
        "\n",
        "* **304** instances were correctly predicted as class 1 **```(True Positives)```**.\n",
        "\n",
        "* **265** instances were predicted as class 1 but were actually class 0 **```(False Positives)```**.\n",
        "* **44** instances were predicted as class 0 but were actually class 1 **```(False Negatives)```**.\n",
        "\n",
        "\n",
        "The confusion matrix of the XGBoost model indicates its poor performance. It tends to mispredict over half of Class 0 entries, while its mistakes for Class 1 are relatively low. This suggests that despite its lower mispredictions for Class 1, the model's frequent errors in predicting Class 0 values are very considerable.\n",
        "\n"
      ],
      "metadata": {
        "id": "TKDg6vdSuXNZ"
      }
    },
    {
      "cell_type": "code",
      "source": [
        "print(\"\\nClassification Report for Test Set:\")\n",
        "print(classification_report(y_test, y_pred))"
      ],
      "metadata": {
        "colab": {
          "base_uri": "https://localhost:8080/"
        },
        "id": "SWllu01cO-0K",
        "outputId": "38782e4f-fea3-4249-e978-37d8ea6ce7c7"
      },
      "execution_count": null,
      "outputs": [
        {
          "output_type": "stream",
          "name": "stdout",
          "text": [
            "\n",
            "Classification Report for Test Set:\n",
            "              precision    recall  f1-score   support\n",
            "\n",
            "           0       0.53      0.16      0.24       314\n",
            "           1       0.53      0.87      0.66       348\n",
            "\n",
            "    accuracy                           0.53       662\n",
            "   macro avg       0.53      0.51      0.45       662\n",
            "weighted avg       0.53      0.53      0.46       662\n",
            "\n"
          ]
        }
      ]
    },
    {
      "cell_type": "markdown",
      "source": [
        "* The classification report of the XGBoost model reveals extremely low precision, recall, and F1-score metrics for class 0. This confirms the model's high errors and mispredictions for entries of class 0, signifying very poor performance and unreliability, particularly in this sensitive domain.\n",
        "\n",
        "* Conversely, the metrics for class 1 appear notably high, suggesting the model's effectiveness in correctly predicting abnormal cases. However, the substantial errors in identifying normal cases as abnormal are significant and need consideration."
      ],
      "metadata": {
        "id": "4HZAlzz4vTcY"
      }
    },
    {
      "cell_type": "markdown",
      "source": [
        "### 3.5) SVM"
      ],
      "metadata": {
        "id": "UHizuUDGPIr7"
      }
    },
    {
      "cell_type": "markdown",
      "source": [
        "\n",
        "Lastly,Attempting to employ the SVM Classifier model aiming for an enhancement in model performance comparing to the previous models."
      ],
      "metadata": {
        "id": "EjFaepbmwhd1"
      }
    },
    {
      "cell_type": "code",
      "source": [
        "from sklearn.svm import SVC\n",
        "from sklearn.model_selection import GridSearchCV"
      ],
      "metadata": {
        "id": "3PcToxvVPOt7"
      },
      "execution_count": null,
      "outputs": []
    },
    {
      "cell_type": "markdown",
      "source": [
        "\n",
        "Employing **GridSearch** to find the most suitable parameters for the SVM model, aiming to enhance accuracy by systematically exploring various parameter combinations."
      ],
      "metadata": {
        "id": "DaZEFNkdwZbA"
      }
    },
    {
      "cell_type": "code",
      "source": [
        "svm_model = SVC(random_state=42)\n",
        "\n",
        "# Define the grid of parameters to search\n",
        "param_grid = {\n",
        "    'C': [0.1, 2,1,0.3,0.5,0.2],\n",
        "    'kernel': ['linear', 'rbf', 'poly'],\n",
        "    'gamma': ['scale', 'auto'],\n",
        "    'degree': [2, 3,5,10]\n",
        "\n",
        "}\n",
        "\n",
        "\n",
        "# Initialize GridSearchCV\n",
        "grid_search = GridSearchCV(estimator=svm_model, param_grid=param_grid , scoring='accuracy', cv=2, n_jobs=10, verbose=2)\n",
        "\n",
        "# Perform grid search\n",
        "grid_search.fit(x_train, y_train)\n",
        "\n",
        "# Get the best parameters and the best score\n",
        "best_params = grid_search.best_params_\n",
        "best_score = grid_search.best_score_\n"
      ],
      "metadata": {
        "id": "LQfm6BfAPKwA",
        "colab": {
          "base_uri": "https://localhost:8080/"
        },
        "outputId": "c9a33b08-3055-44a8-b52a-b6bff00b9dc5"
      },
      "execution_count": null,
      "outputs": [
        {
          "output_type": "stream",
          "name": "stdout",
          "text": [
            "Fitting 2 folds for each of 144 candidates, totalling 288 fits\n"
          ]
        }
      ]
    },
    {
      "cell_type": "code",
      "source": [
        "best_params"
      ],
      "metadata": {
        "id": "ka1aC_PdPSWI",
        "colab": {
          "base_uri": "https://localhost:8080/"
        },
        "outputId": "bd0a2d73-8ce1-4302-e0ae-2915ec22a572"
      },
      "execution_count": null,
      "outputs": [
        {
          "output_type": "execute_result",
          "data": {
            "text/plain": [
              "{'C': 0.1, 'degree': 10, 'gamma': 'auto', 'kernel': 'poly'}"
            ]
          },
          "metadata": {},
          "execution_count": 99
        }
      ]
    },
    {
      "cell_type": "markdown",
      "source": [
        "Based on the **GridSearch**, the selected values for the hyperparameters of SVM model are ***{C : 0.1 , degree : 10, gamma : auto, kernel : poly}***"
      ],
      "metadata": {
        "id": "9AeaPaQ2wy1-"
      }
    },
    {
      "cell_type": "markdown",
      "source": [
        "Creating an xgbclassifier model instance using the identified hyperparameter values from RandomSearch and training the model accordingly."
      ],
      "metadata": {
        "id": "ntwOJmnRxEKS"
      }
    },
    {
      "cell_type": "code",
      "source": [
        "svm_model = SVC(kernel='poly', C=0.1, gamma='auto',degree=10, random_state=42)\n",
        "svm_model.fit(x_train,y_train)"
      ],
      "metadata": {
        "id": "nRjTK2ULPdhT",
        "colab": {
          "base_uri": "https://localhost:8080/",
          "height": 74
        },
        "outputId": "e07a5477-68d3-43b4-e526-5687f661cf1e"
      },
      "execution_count": null,
      "outputs": [
        {
          "output_type": "execute_result",
          "data": {
            "text/plain": [
              "SVC(C=0.1, degree=10, gamma='auto', kernel='poly', random_state=42)"
            ],
            "text/html": [
              "<style>#sk-container-id-8 {color: black;background-color: white;}#sk-container-id-8 pre{padding: 0;}#sk-container-id-8 div.sk-toggleable {background-color: white;}#sk-container-id-8 label.sk-toggleable__label {cursor: pointer;display: block;width: 100%;margin-bottom: 0;padding: 0.3em;box-sizing: border-box;text-align: center;}#sk-container-id-8 label.sk-toggleable__label-arrow:before {content: \"▸\";float: left;margin-right: 0.25em;color: #696969;}#sk-container-id-8 label.sk-toggleable__label-arrow:hover:before {color: black;}#sk-container-id-8 div.sk-estimator:hover label.sk-toggleable__label-arrow:before {color: black;}#sk-container-id-8 div.sk-toggleable__content {max-height: 0;max-width: 0;overflow: hidden;text-align: left;background-color: #f0f8ff;}#sk-container-id-8 div.sk-toggleable__content pre {margin: 0.2em;color: black;border-radius: 0.25em;background-color: #f0f8ff;}#sk-container-id-8 input.sk-toggleable__control:checked~div.sk-toggleable__content {max-height: 200px;max-width: 100%;overflow: auto;}#sk-container-id-8 input.sk-toggleable__control:checked~label.sk-toggleable__label-arrow:before {content: \"▾\";}#sk-container-id-8 div.sk-estimator input.sk-toggleable__control:checked~label.sk-toggleable__label {background-color: #d4ebff;}#sk-container-id-8 div.sk-label input.sk-toggleable__control:checked~label.sk-toggleable__label {background-color: #d4ebff;}#sk-container-id-8 input.sk-hidden--visually {border: 0;clip: rect(1px 1px 1px 1px);clip: rect(1px, 1px, 1px, 1px);height: 1px;margin: -1px;overflow: hidden;padding: 0;position: absolute;width: 1px;}#sk-container-id-8 div.sk-estimator {font-family: monospace;background-color: #f0f8ff;border: 1px dotted black;border-radius: 0.25em;box-sizing: border-box;margin-bottom: 0.5em;}#sk-container-id-8 div.sk-estimator:hover {background-color: #d4ebff;}#sk-container-id-8 div.sk-parallel-item::after {content: \"\";width: 100%;border-bottom: 1px solid gray;flex-grow: 1;}#sk-container-id-8 div.sk-label:hover label.sk-toggleable__label {background-color: #d4ebff;}#sk-container-id-8 div.sk-serial::before {content: \"\";position: absolute;border-left: 1px solid gray;box-sizing: border-box;top: 0;bottom: 0;left: 50%;z-index: 0;}#sk-container-id-8 div.sk-serial {display: flex;flex-direction: column;align-items: center;background-color: white;padding-right: 0.2em;padding-left: 0.2em;position: relative;}#sk-container-id-8 div.sk-item {position: relative;z-index: 1;}#sk-container-id-8 div.sk-parallel {display: flex;align-items: stretch;justify-content: center;background-color: white;position: relative;}#sk-container-id-8 div.sk-item::before, #sk-container-id-8 div.sk-parallel-item::before {content: \"\";position: absolute;border-left: 1px solid gray;box-sizing: border-box;top: 0;bottom: 0;left: 50%;z-index: -1;}#sk-container-id-8 div.sk-parallel-item {display: flex;flex-direction: column;z-index: 1;position: relative;background-color: white;}#sk-container-id-8 div.sk-parallel-item:first-child::after {align-self: flex-end;width: 50%;}#sk-container-id-8 div.sk-parallel-item:last-child::after {align-self: flex-start;width: 50%;}#sk-container-id-8 div.sk-parallel-item:only-child::after {width: 0;}#sk-container-id-8 div.sk-dashed-wrapped {border: 1px dashed gray;margin: 0 0.4em 0.5em 0.4em;box-sizing: border-box;padding-bottom: 0.4em;background-color: white;}#sk-container-id-8 div.sk-label label {font-family: monospace;font-weight: bold;display: inline-block;line-height: 1.2em;}#sk-container-id-8 div.sk-label-container {text-align: center;}#sk-container-id-8 div.sk-container {/* jupyter's `normalize.less` sets `[hidden] { display: none; }` but bootstrap.min.css set `[hidden] { display: none !important; }` so we also need the `!important` here to be able to override the default hidden behavior on the sphinx rendered scikit-learn.org. See: https://github.com/scikit-learn/scikit-learn/issues/21755 */display: inline-block !important;position: relative;}#sk-container-id-8 div.sk-text-repr-fallback {display: none;}</style><div id=\"sk-container-id-8\" class=\"sk-top-container\"><div class=\"sk-text-repr-fallback\"><pre>SVC(C=0.1, degree=10, gamma=&#x27;auto&#x27;, kernel=&#x27;poly&#x27;, random_state=42)</pre><b>In a Jupyter environment, please rerun this cell to show the HTML representation or trust the notebook. <br />On GitHub, the HTML representation is unable to render, please try loading this page with nbviewer.org.</b></div><div class=\"sk-container\" hidden><div class=\"sk-item\"><div class=\"sk-estimator sk-toggleable\"><input class=\"sk-toggleable__control sk-hidden--visually\" id=\"sk-estimator-id-8\" type=\"checkbox\" checked><label for=\"sk-estimator-id-8\" class=\"sk-toggleable__label sk-toggleable__label-arrow\">SVC</label><div class=\"sk-toggleable__content\"><pre>SVC(C=0.1, degree=10, gamma=&#x27;auto&#x27;, kernel=&#x27;poly&#x27;, random_state=42)</pre></div></div></div></div></div>"
            ]
          },
          "metadata": {},
          "execution_count": 112
        }
      ]
    },
    {
      "cell_type": "markdown",
      "source": [
        "Generating predictions on both the training and test datasets for SVM model evaluation."
      ],
      "metadata": {
        "id": "ThA8tyvzxHUE"
      }
    },
    {
      "cell_type": "code",
      "source": [
        "y_pred=svm_model.predict(x_test)\n",
        "y_pred_train=svm_model.predict(x_train)"
      ],
      "metadata": {
        "id": "HaGz__kBPjd7"
      },
      "execution_count": null,
      "outputs": []
    },
    {
      "cell_type": "markdown",
      "source": [
        "\n",
        "Evaluating the accuracy of predictions made on both the training and testing datasets."
      ],
      "metadata": {
        "id": "ZT7Iotl3xMdw"
      }
    },
    {
      "cell_type": "code",
      "source": [
        "print(f\"Metrics train:\\n\\tAccuracy score: {accuracy_score(y_pred_train,y_train)*100:.2f}\")\n",
        "print(f\"Metrics Test:\\n\\tAccuracy score: {accuracy_score(y_pred,y_test)*100:.2f}\")"
      ],
      "metadata": {
        "id": "2yvIeod1PpBU",
        "colab": {
          "base_uri": "https://localhost:8080/"
        },
        "outputId": "4b51c82d-7706-4ac2-c5dd-10c81fb6d7e2"
      },
      "execution_count": null,
      "outputs": [
        {
          "output_type": "stream",
          "name": "stdout",
          "text": [
            "Metrics train:\n",
            "\tAccuracy score: 57.69\n",
            "Metrics Test:\n",
            "\tAccuracy score: 53.17\n"
          ]
        }
      ]
    },
    {
      "cell_type": "markdown",
      "source": [
        "Visualizing the SVM confusion matrix to further evaluate the model's performance."
      ],
      "metadata": {
        "id": "S5cwyQvsxPSc"
      }
    },
    {
      "cell_type": "code",
      "source": [
        "cm = confusion_matrix(y_test, y_pred)\n",
        "\n",
        "plt.figure(figsize=(4, 4))\n",
        "sns.heatmap(cm, annot=True, fmt='d', cmap='Blues', cbar=False, xticklabels=['0', '1'], yticklabels=['0', '1'])\n",
        "\n",
        "plt.title('Confusion Matrix')\n",
        "plt.xlabel('Actual Labels')\n",
        "plt.ylabel('Predicted Labels')\n",
        "\n",
        "plt.show()"
      ],
      "metadata": {
        "id": "y4pNE1raPqbx",
        "colab": {
          "base_uri": "https://localhost:8080/",
          "height": 410
        },
        "outputId": "9f498eef-7161-4d83-ca09-58236dacfcfb"
      },
      "execution_count": null,
      "outputs": [
        {
          "output_type": "display_data",
          "data": {
            "text/plain": [
              "<Figure size 400x400 with 1 Axes>"
            ],
            "image/png": "[encoded data removed]"
          },
          "metadata": {}
        }
      ]
    },
    {
      "cell_type": "markdown",
      "source": [
        "Based on this Conusion matrix Evaluation :\n",
        "\n",
        "* **36** instances were correctly predicted as class 0 **```(True Negatives)```**.\n",
        "\n",
        "* **316** instances were correctly predicted as class 1 **```(True Positives)```**.\n",
        "\n",
        "* **278** instances were predicted as class 1 but were actually class 0 **```(False Positives)```**.\n",
        "* **32** instances were predicted as class 0 but were actually class 1 **```(False Negatives)```**.\n",
        "\n",
        "The confusion matrix of the SVM model is similar to XGBoost model.indicates its poor performance. It tends to mispredict over half of Class 0 entries, while its mistakes for Class 1 are relatively low. This suggests that despite its lower mispredictions for Class 1, the model's frequent errors in predicting Class 0 values are very considerable.\n",
        "\n",
        "\n",
        "\n",
        "\n"
      ],
      "metadata": {
        "id": "Argyk_hpxaD4"
      }
    },
    {
      "cell_type": "markdown",
      "source": [],
      "metadata": {
        "id": "PxFR6yupLEzs"
      }
    },
    {
      "cell_type": "code",
      "source": [
        "print(\"\\nClassification Report for Test Set:\")\n",
        "print(classification_report(y_test, y_pred))"
      ],
      "metadata": {
        "id": "muSZ5EnsPufj",
        "colab": {
          "base_uri": "https://localhost:8080/"
        },
        "outputId": "e16158c2-a36a-4e94-81b7-bc9309f09284"
      },
      "execution_count": null,
      "outputs": [
        {
          "output_type": "stream",
          "name": "stdout",
          "text": [
            "\n",
            "Classification Report for Test Set:\n",
            "              precision    recall  f1-score   support\n",
            "\n",
            "           0       0.53      0.11      0.19       314\n",
            "           1       0.53      0.91      0.67       348\n",
            "\n",
            "    accuracy                           0.53       662\n",
            "   macro avg       0.53      0.51      0.43       662\n",
            "weighted avg       0.53      0.53      0.44       662\n",
            "\n"
          ]
        }
      ]
    },
    {
      "cell_type": "markdown",
      "source": [
        "Similar to the XGBoost model,svm model tends to misspredict over half of the class 0 entries"
      ],
      "metadata": {
        "id": "Ge-bmFJZK12n"
      }
    },
    {
      "cell_type": "markdown",
      "source": [
        "* The classification report of the SVM model reveals extremely low precision, recall, and F1-score metrics for class 0 where it is more lower even than XGBoost model. This confirms the model's high errors and mispredictions for entries of class 0, signifying very poor performance and unreliability, particularly in this sensitive domain.\n",
        "\n",
        "* Conversely, the metrics for class 1 appear notably high, suggesting the model's effectiveness in correctly predicting abnormal cases. However, the substantial errors in identifying normal cases as abnormal are significant and need consideration."
      ],
      "metadata": {
        "id": "VqrFZrdTLPeI"
      }
    },
    {
      "cell_type": "markdown",
      "source": [
        "##Conclusion\n",
        "\n",
        "* The Logistic Regression model with an adjusted threshold achieved higher accuracy and better average precision, recall, and F1-scores for both classes compared to all other models. It appears to be the most efficient model for this dataset. However, all models' accuracy scores in this sensitive domain aren't highly favorable, suggesting potential high errors in the data even after preprocessing and any subsequent adjustments."
      ],
      "metadata": {
        "id": "14_OBwuQxk-4"
      }
    }
  ]
}